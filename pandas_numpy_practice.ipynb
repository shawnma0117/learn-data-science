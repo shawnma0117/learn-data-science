{
 "cells": [
  {
   "cell_type": "code",
   "execution_count": 88,
   "metadata": {
    "collapsed": true
   },
   "outputs": [],
   "source": [
    "import pandas as pd\n",
    "import numpy as np\n",
    "from matplotlib import pylab as plt"
   ]
  },
  {
   "cell_type": "code",
   "execution_count": 54,
   "metadata": {
    "collapsed": true
   },
   "outputs": [],
   "source": [
    "%matplotlib inline"
   ]
  },
  {
   "cell_type": "code",
   "execution_count": 2,
   "metadata": {
    "collapsed": true
   },
   "outputs": [],
   "source": [
    "tsdf = pd.DataFrame(data=np.random.randn(10, 3), columns=['A', 'B', 'C'],index=pd.date_range('1/1/2018',periods=10))"
   ]
  },
  {
   "cell_type": "code",
   "execution_count": 65,
   "metadata": {},
   "outputs": [
    {
     "data": {
      "text/html": [
       "<div>\n",
       "<style>\n",
       "    .dataframe thead tr:only-child th {\n",
       "        text-align: right;\n",
       "    }\n",
       "\n",
       "    .dataframe thead th {\n",
       "        text-align: left;\n",
       "    }\n",
       "\n",
       "    .dataframe tbody tr th {\n",
       "        vertical-align: top;\n",
       "    }\n",
       "</style>\n",
       "<table border=\"1\" class=\"dataframe\">\n",
       "  <thead>\n",
       "    <tr style=\"text-align: right;\">\n",
       "      <th></th>\n",
       "      <th>A</th>\n",
       "      <th>B</th>\n",
       "      <th>C</th>\n",
       "    </tr>\n",
       "  </thead>\n",
       "  <tbody>\n",
       "    <tr>\n",
       "      <th>2018-01-01</th>\n",
       "      <td>-1.119744</td>\n",
       "      <td>3.210192</td>\n",
       "      <td>0.140761</td>\n",
       "    </tr>\n",
       "    <tr>\n",
       "      <th>2018-01-02</th>\n",
       "      <td>-1.025044</td>\n",
       "      <td>-0.892320</td>\n",
       "      <td>2.508011</td>\n",
       "    </tr>\n",
       "    <tr>\n",
       "      <th>2018-01-03</th>\n",
       "      <td>0.069094</td>\n",
       "      <td>0.063702</td>\n",
       "      <td>-0.731926</td>\n",
       "    </tr>\n",
       "    <tr>\n",
       "      <th>2018-01-04</th>\n",
       "      <td>-0.023612</td>\n",
       "      <td>0.220653</td>\n",
       "      <td>-0.377677</td>\n",
       "    </tr>\n",
       "    <tr>\n",
       "      <th>2018-01-05</th>\n",
       "      <td>0.349381</td>\n",
       "      <td>0.218046</td>\n",
       "      <td>-1.089990</td>\n",
       "    </tr>\n",
       "    <tr>\n",
       "      <th>2018-01-06</th>\n",
       "      <td>-1.101047</td>\n",
       "      <td>0.230095</td>\n",
       "      <td>1.089551</td>\n",
       "    </tr>\n",
       "    <tr>\n",
       "      <th>2018-01-07</th>\n",
       "      <td>0.790173</td>\n",
       "      <td>0.403562</td>\n",
       "      <td>0.307876</td>\n",
       "    </tr>\n",
       "    <tr>\n",
       "      <th>2018-01-08</th>\n",
       "      <td>0.350043</td>\n",
       "      <td>1.261137</td>\n",
       "      <td>0.214332</td>\n",
       "    </tr>\n",
       "    <tr>\n",
       "      <th>2018-01-09</th>\n",
       "      <td>0.212066</td>\n",
       "      <td>0.340718</td>\n",
       "      <td>-0.321195</td>\n",
       "    </tr>\n",
       "    <tr>\n",
       "      <th>2018-01-10</th>\n",
       "      <td>-0.321919</td>\n",
       "      <td>-0.307435</td>\n",
       "      <td>-1.029718</td>\n",
       "    </tr>\n",
       "  </tbody>\n",
       "</table>\n",
       "</div>"
      ],
      "text/plain": [
       "                   A         B         C\n",
       "2018-01-01 -1.119744  3.210192  0.140761\n",
       "2018-01-02 -1.025044 -0.892320  2.508011\n",
       "2018-01-03  0.069094  0.063702 -0.731926\n",
       "2018-01-04 -0.023612  0.220653 -0.377677\n",
       "2018-01-05  0.349381  0.218046 -1.089990\n",
       "2018-01-06 -1.101047  0.230095  1.089551\n",
       "2018-01-07  0.790173  0.403562  0.307876\n",
       "2018-01-08  0.350043  1.261137  0.214332\n",
       "2018-01-09  0.212066  0.340718 -0.321195\n",
       "2018-01-10 -0.321919 -0.307435 -1.029718"
      ]
     },
     "execution_count": 65,
     "metadata": {},
     "output_type": "execute_result"
    }
   ],
   "source": [
    "tsdf"
   ]
  },
  {
   "cell_type": "code",
   "execution_count": 14,
   "metadata": {
    "collapsed": true
   },
   "outputs": [],
   "source": [
    "arr1 = np.random.rand(2,3)"
   ]
  },
  {
   "cell_type": "code",
   "execution_count": 19,
   "metadata": {
    "collapsed": true
   },
   "outputs": [],
   "source": [
    "arr2 = np.random.randn(20,20)"
   ]
  },
  {
   "cell_type": "code",
   "execution_count": 17,
   "metadata": {},
   "outputs": [
    {
     "data": {
      "text/plain": [
       "(0.4962297103369111, 0.23992115749370521)"
      ]
     },
     "execution_count": 17,
     "metadata": {},
     "output_type": "execute_result"
    }
   ],
   "source": [
    "arr1.mean(), arr1.std()"
   ]
  },
  {
   "cell_type": "code",
   "execution_count": 20,
   "metadata": {},
   "outputs": [
    {
     "data": {
      "text/plain": [
       "(0.079514833413953989, 1.0232535927470956)"
      ]
     },
     "execution_count": 20,
     "metadata": {},
     "output_type": "execute_result"
    }
   ],
   "source": [
    "arr2.mean(),arr2.std()"
   ]
  },
  {
   "cell_type": "code",
   "execution_count": 24,
   "metadata": {
    "collapsed": true
   },
   "outputs": [],
   "source": [
    "idx_list=[]\n",
    "row_list=[]\n",
    "for index, row in tsdf.iterrows():\n",
    "    idx_list.append(index)\n",
    "    row_list.append(row)"
   ]
  },
  {
   "cell_type": "code",
   "execution_count": 42,
   "metadata": {
    "collapsed": true
   },
   "outputs": [],
   "source": [
    "tsdf_plus = tsdf.applymap(lambda x: x+1)"
   ]
  },
  {
   "cell_type": "code",
   "execution_count": 43,
   "metadata": {},
   "outputs": [
    {
     "data": {
      "text/html": [
       "<div>\n",
       "<style>\n",
       "    .dataframe thead tr:only-child th {\n",
       "        text-align: right;\n",
       "    }\n",
       "\n",
       "    .dataframe thead th {\n",
       "        text-align: left;\n",
       "    }\n",
       "\n",
       "    .dataframe tbody tr th {\n",
       "        vertical-align: top;\n",
       "    }\n",
       "</style>\n",
       "<table border=\"1\" class=\"dataframe\">\n",
       "  <thead>\n",
       "    <tr style=\"text-align: right;\">\n",
       "      <th></th>\n",
       "      <th>A</th>\n",
       "      <th>B</th>\n",
       "      <th>C</th>\n",
       "    </tr>\n",
       "  </thead>\n",
       "  <tbody>\n",
       "    <tr>\n",
       "      <th>2018-01-01</th>\n",
       "      <td>-0.119744</td>\n",
       "      <td>4.210192</td>\n",
       "      <td>1.140761</td>\n",
       "    </tr>\n",
       "    <tr>\n",
       "      <th>2018-01-02</th>\n",
       "      <td>-0.025044</td>\n",
       "      <td>0.107680</td>\n",
       "      <td>3.508011</td>\n",
       "    </tr>\n",
       "    <tr>\n",
       "      <th>2018-01-03</th>\n",
       "      <td>1.069094</td>\n",
       "      <td>1.063702</td>\n",
       "      <td>0.268074</td>\n",
       "    </tr>\n",
       "    <tr>\n",
       "      <th>2018-01-04</th>\n",
       "      <td>0.976388</td>\n",
       "      <td>1.220653</td>\n",
       "      <td>0.622323</td>\n",
       "    </tr>\n",
       "    <tr>\n",
       "      <th>2018-01-05</th>\n",
       "      <td>1.349381</td>\n",
       "      <td>1.218046</td>\n",
       "      <td>-0.089990</td>\n",
       "    </tr>\n",
       "    <tr>\n",
       "      <th>2018-01-06</th>\n",
       "      <td>-0.101047</td>\n",
       "      <td>1.230095</td>\n",
       "      <td>2.089551</td>\n",
       "    </tr>\n",
       "    <tr>\n",
       "      <th>2018-01-07</th>\n",
       "      <td>1.790173</td>\n",
       "      <td>1.403562</td>\n",
       "      <td>1.307876</td>\n",
       "    </tr>\n",
       "    <tr>\n",
       "      <th>2018-01-08</th>\n",
       "      <td>1.350043</td>\n",
       "      <td>2.261137</td>\n",
       "      <td>1.214332</td>\n",
       "    </tr>\n",
       "    <tr>\n",
       "      <th>2018-01-09</th>\n",
       "      <td>1.212066</td>\n",
       "      <td>1.340718</td>\n",
       "      <td>0.678805</td>\n",
       "    </tr>\n",
       "    <tr>\n",
       "      <th>2018-01-10</th>\n",
       "      <td>0.678081</td>\n",
       "      <td>0.692565</td>\n",
       "      <td>-0.029718</td>\n",
       "    </tr>\n",
       "  </tbody>\n",
       "</table>\n",
       "</div>"
      ],
      "text/plain": [
       "                   A         B         C\n",
       "2018-01-01 -0.119744  4.210192  1.140761\n",
       "2018-01-02 -0.025044  0.107680  3.508011\n",
       "2018-01-03  1.069094  1.063702  0.268074\n",
       "2018-01-04  0.976388  1.220653  0.622323\n",
       "2018-01-05  1.349381  1.218046 -0.089990\n",
       "2018-01-06 -0.101047  1.230095  2.089551\n",
       "2018-01-07  1.790173  1.403562  1.307876\n",
       "2018-01-08  1.350043  2.261137  1.214332\n",
       "2018-01-09  1.212066  1.340718  0.678805\n",
       "2018-01-10  0.678081  0.692565 -0.029718"
      ]
     },
     "execution_count": 43,
     "metadata": {},
     "output_type": "execute_result"
    }
   ],
   "source": [
    "tsdf_plus"
   ]
  },
  {
   "cell_type": "code",
   "execution_count": 44,
   "metadata": {},
   "outputs": [
    {
     "data": {
      "text/html": [
       "<div>\n",
       "<style>\n",
       "    .dataframe thead tr:only-child th {\n",
       "        text-align: right;\n",
       "    }\n",
       "\n",
       "    .dataframe thead th {\n",
       "        text-align: left;\n",
       "    }\n",
       "\n",
       "    .dataframe tbody tr th {\n",
       "        vertical-align: top;\n",
       "    }\n",
       "</style>\n",
       "<table border=\"1\" class=\"dataframe\">\n",
       "  <thead>\n",
       "    <tr style=\"text-align: right;\">\n",
       "      <th></th>\n",
       "      <th>A</th>\n",
       "      <th>B</th>\n",
       "      <th>C</th>\n",
       "    </tr>\n",
       "  </thead>\n",
       "  <tbody>\n",
       "    <tr>\n",
       "      <th>2018-01-01</th>\n",
       "      <td>1.0</td>\n",
       "      <td>1.0</td>\n",
       "      <td>1.0</td>\n",
       "    </tr>\n",
       "    <tr>\n",
       "      <th>2018-01-02</th>\n",
       "      <td>1.0</td>\n",
       "      <td>1.0</td>\n",
       "      <td>1.0</td>\n",
       "    </tr>\n",
       "    <tr>\n",
       "      <th>2018-01-03</th>\n",
       "      <td>1.0</td>\n",
       "      <td>1.0</td>\n",
       "      <td>1.0</td>\n",
       "    </tr>\n",
       "    <tr>\n",
       "      <th>2018-01-04</th>\n",
       "      <td>1.0</td>\n",
       "      <td>1.0</td>\n",
       "      <td>1.0</td>\n",
       "    </tr>\n",
       "    <tr>\n",
       "      <th>2018-01-05</th>\n",
       "      <td>1.0</td>\n",
       "      <td>1.0</td>\n",
       "      <td>1.0</td>\n",
       "    </tr>\n",
       "    <tr>\n",
       "      <th>2018-01-06</th>\n",
       "      <td>1.0</td>\n",
       "      <td>1.0</td>\n",
       "      <td>1.0</td>\n",
       "    </tr>\n",
       "    <tr>\n",
       "      <th>2018-01-07</th>\n",
       "      <td>1.0</td>\n",
       "      <td>1.0</td>\n",
       "      <td>1.0</td>\n",
       "    </tr>\n",
       "    <tr>\n",
       "      <th>2018-01-08</th>\n",
       "      <td>1.0</td>\n",
       "      <td>1.0</td>\n",
       "      <td>1.0</td>\n",
       "    </tr>\n",
       "    <tr>\n",
       "      <th>2018-01-09</th>\n",
       "      <td>1.0</td>\n",
       "      <td>1.0</td>\n",
       "      <td>1.0</td>\n",
       "    </tr>\n",
       "    <tr>\n",
       "      <th>2018-01-10</th>\n",
       "      <td>1.0</td>\n",
       "      <td>1.0</td>\n",
       "      <td>1.0</td>\n",
       "    </tr>\n",
       "  </tbody>\n",
       "</table>\n",
       "</div>"
      ],
      "text/plain": [
       "              A    B    C\n",
       "2018-01-01  1.0  1.0  1.0\n",
       "2018-01-02  1.0  1.0  1.0\n",
       "2018-01-03  1.0  1.0  1.0\n",
       "2018-01-04  1.0  1.0  1.0\n",
       "2018-01-05  1.0  1.0  1.0\n",
       "2018-01-06  1.0  1.0  1.0\n",
       "2018-01-07  1.0  1.0  1.0\n",
       "2018-01-08  1.0  1.0  1.0\n",
       "2018-01-09  1.0  1.0  1.0\n",
       "2018-01-10  1.0  1.0  1.0"
      ]
     },
     "execution_count": 44,
     "metadata": {},
     "output_type": "execute_result"
    }
   ],
   "source": [
    "tsdf_plus - tsdf"
   ]
  },
  {
   "cell_type": "code",
   "execution_count": 45,
   "metadata": {
    "collapsed": true
   },
   "outputs": [],
   "source": [
    "tsdf_cp = tsdf.copy()"
   ]
  },
  {
   "cell_type": "code",
   "execution_count": 46,
   "metadata": {},
   "outputs": [
    {
     "data": {
      "text/html": [
       "<div>\n",
       "<style>\n",
       "    .dataframe thead tr:only-child th {\n",
       "        text-align: right;\n",
       "    }\n",
       "\n",
       "    .dataframe thead th {\n",
       "        text-align: left;\n",
       "    }\n",
       "\n",
       "    .dataframe tbody tr th {\n",
       "        vertical-align: top;\n",
       "    }\n",
       "</style>\n",
       "<table border=\"1\" class=\"dataframe\">\n",
       "  <thead>\n",
       "    <tr style=\"text-align: right;\">\n",
       "      <th></th>\n",
       "      <th>A</th>\n",
       "      <th>B</th>\n",
       "      <th>C</th>\n",
       "    </tr>\n",
       "  </thead>\n",
       "  <tbody>\n",
       "    <tr>\n",
       "      <th>2018-01-01</th>\n",
       "      <td>True</td>\n",
       "      <td>True</td>\n",
       "      <td>True</td>\n",
       "    </tr>\n",
       "    <tr>\n",
       "      <th>2018-01-02</th>\n",
       "      <td>True</td>\n",
       "      <td>True</td>\n",
       "      <td>True</td>\n",
       "    </tr>\n",
       "    <tr>\n",
       "      <th>2018-01-03</th>\n",
       "      <td>True</td>\n",
       "      <td>True</td>\n",
       "      <td>True</td>\n",
       "    </tr>\n",
       "    <tr>\n",
       "      <th>2018-01-04</th>\n",
       "      <td>True</td>\n",
       "      <td>True</td>\n",
       "      <td>True</td>\n",
       "    </tr>\n",
       "    <tr>\n",
       "      <th>2018-01-05</th>\n",
       "      <td>True</td>\n",
       "      <td>True</td>\n",
       "      <td>True</td>\n",
       "    </tr>\n",
       "    <tr>\n",
       "      <th>2018-01-06</th>\n",
       "      <td>True</td>\n",
       "      <td>True</td>\n",
       "      <td>True</td>\n",
       "    </tr>\n",
       "    <tr>\n",
       "      <th>2018-01-07</th>\n",
       "      <td>True</td>\n",
       "      <td>True</td>\n",
       "      <td>True</td>\n",
       "    </tr>\n",
       "    <tr>\n",
       "      <th>2018-01-08</th>\n",
       "      <td>True</td>\n",
       "      <td>True</td>\n",
       "      <td>True</td>\n",
       "    </tr>\n",
       "    <tr>\n",
       "      <th>2018-01-09</th>\n",
       "      <td>True</td>\n",
       "      <td>True</td>\n",
       "      <td>True</td>\n",
       "    </tr>\n",
       "    <tr>\n",
       "      <th>2018-01-10</th>\n",
       "      <td>True</td>\n",
       "      <td>True</td>\n",
       "      <td>True</td>\n",
       "    </tr>\n",
       "  </tbody>\n",
       "</table>\n",
       "</div>"
      ],
      "text/plain": [
       "               A     B     C\n",
       "2018-01-01  True  True  True\n",
       "2018-01-02  True  True  True\n",
       "2018-01-03  True  True  True\n",
       "2018-01-04  True  True  True\n",
       "2018-01-05  True  True  True\n",
       "2018-01-06  True  True  True\n",
       "2018-01-07  True  True  True\n",
       "2018-01-08  True  True  True\n",
       "2018-01-09  True  True  True\n",
       "2018-01-10  True  True  True"
      ]
     },
     "execution_count": 46,
     "metadata": {},
     "output_type": "execute_result"
    }
   ],
   "source": [
    "tsdf_cp.eq(tsdf)"
   ]
  },
  {
   "cell_type": "code",
   "execution_count": 47,
   "metadata": {},
   "outputs": [
    {
     "data": {
      "text/plain": [
       "True"
      ]
     },
     "execution_count": 47,
     "metadata": {},
     "output_type": "execute_result"
    }
   ],
   "source": [
    "tsdf_cp.equals(tsdf)"
   ]
  },
  {
   "cell_type": "markdown",
   "metadata": {},
   "source": [
    "# series and index "
   ]
  },
  {
   "cell_type": "code",
   "execution_count": 49,
   "metadata": {},
   "outputs": [
    {
     "data": {
      "text/plain": [
       "a    1\n",
       "b    2\n",
       "c    3\n",
       "d    4\n",
       "e    5\n",
       "dtype: int64"
      ]
     },
     "execution_count": 49,
     "metadata": {},
     "output_type": "execute_result"
    }
   ],
   "source": [
    "pd.Series(data=[1,2,3,4,5],index=list('abcde'))"
   ]
  },
  {
   "cell_type": "code",
   "execution_count": 58,
   "metadata": {
    "collapsed": true
   },
   "outputs": [],
   "source": [
    "tsdf_idx = tsdf.index"
   ]
  },
  {
   "cell_type": "code",
   "execution_count": 70,
   "metadata": {},
   "outputs": [
    {
     "data": {
      "text/plain": [
       "Timestamp('2018-01-02 00:00:00', freq='D')"
      ]
     },
     "execution_count": 70,
     "metadata": {},
     "output_type": "execute_result"
    }
   ],
   "source": [
    "tsdf_idx[1]"
   ]
  },
  {
   "cell_type": "code",
   "execution_count": 59,
   "metadata": {},
   "outputs": [
    {
     "data": {
      "text/plain": [
       "pandas.core.indexes.datetimes.DatetimeIndex"
      ]
     },
     "execution_count": 59,
     "metadata": {},
     "output_type": "execute_result"
    }
   ],
   "source": [
    "type(tsdf_idx)"
   ]
  },
  {
   "cell_type": "code",
   "execution_count": 60,
   "metadata": {
    "collapsed": true
   },
   "outputs": [],
   "source": [
    "tsdf_series = pd.Series(tsdf_idx)"
   ]
  },
  {
   "cell_type": "code",
   "execution_count": 61,
   "metadata": {},
   "outputs": [
    {
     "data": {
      "text/plain": [
       "Timestamp('2018-01-01 00:00:00')"
      ]
     },
     "execution_count": 61,
     "metadata": {},
     "output_type": "execute_result"
    }
   ],
   "source": [
    "tsdf_series.at[0]"
   ]
  },
  {
   "cell_type": "code",
   "execution_count": 66,
   "metadata": {},
   "outputs": [
    {
     "data": {
      "text/plain": [
       "-1.119744254705503"
      ]
     },
     "execution_count": 66,
     "metadata": {},
     "output_type": "execute_result"
    }
   ],
   "source": [
    "tsdf.iat[0,0]"
   ]
  },
  {
   "cell_type": "code",
   "execution_count": 69,
   "metadata": {},
   "outputs": [
    {
     "data": {
      "text/plain": [
       "-1.119744254705503"
      ]
     },
     "execution_count": 69,
     "metadata": {},
     "output_type": "execute_result"
    }
   ],
   "source": [
    "tsdf.at[tsdf_idx[0],'A']"
   ]
  },
  {
   "cell_type": "code",
   "execution_count": 75,
   "metadata": {},
   "outputs": [
    {
     "data": {
      "text/plain": [
       "-1.119744254705503"
      ]
     },
     "execution_count": 75,
     "metadata": {},
     "output_type": "execute_result"
    }
   ],
   "source": [
    "tsdf.loc[tsdf_idx[0],'A']"
   ]
  },
  {
   "cell_type": "code",
   "execution_count": 76,
   "metadata": {
    "collapsed": true
   },
   "outputs": [],
   "source": [
    "s1 = pd.Series(data = {'a':1,'b':2})"
   ]
  },
  {
   "cell_type": "code",
   "execution_count": 81,
   "metadata": {
    "collapsed": true
   },
   "outputs": [],
   "source": [
    "A = tsdf.A"
   ]
  },
  {
   "cell_type": "code",
   "execution_count": 82,
   "metadata": {},
   "outputs": [
    {
     "data": {
      "text/plain": [
       "pandas.core.series.Series"
      ]
     },
     "execution_count": 82,
     "metadata": {},
     "output_type": "execute_result"
    }
   ],
   "source": [
    "type(A)"
   ]
  },
  {
   "cell_type": "code",
   "execution_count": 84,
   "metadata": {},
   "outputs": [
    {
     "data": {
      "text/plain": [
       "True"
      ]
     },
     "execution_count": 84,
     "metadata": {},
     "output_type": "execute_result"
    }
   ],
   "source": [
    "A.index.equals(tsdf.index)"
   ]
  },
  {
   "cell_type": "code",
   "execution_count": 85,
   "metadata": {
    "collapsed": true
   },
   "outputs": [],
   "source": [
    "s1['b'] = 3"
   ]
  },
  {
   "cell_type": "code",
   "execution_count": 86,
   "metadata": {
    "scrolled": true
   },
   "outputs": [
    {
     "data": {
      "text/plain": [
       "a    1\n",
       "b    3\n",
       "dtype: int64"
      ]
     },
     "execution_count": 86,
     "metadata": {},
     "output_type": "execute_result"
    }
   ],
   "source": [
    "s1"
   ]
  },
  {
   "cell_type": "code",
   "execution_count": 87,
   "metadata": {
    "collapsed": true
   },
   "outputs": [],
   "source": [
    "data2 = [{'a': 1, 'b': 2}, {'a': 5, 'b': 10, 'c': 20}]"
   ]
  },
  {
   "cell_type": "code",
   "execution_count": 92,
   "metadata": {
    "collapsed": true
   },
   "outputs": [],
   "source": [
    "df_data2 = pd.DataFrame(data2)"
   ]
  },
  {
   "cell_type": "code",
   "execution_count": 93,
   "metadata": {
    "scrolled": true
   },
   "outputs": [
    {
     "name": "stdout",
     "output_type": "stream",
     "text": [
      "<class 'pandas.core.frame.DataFrame'>\n",
      "RangeIndex: 2 entries, 0 to 1\n",
      "Data columns (total 3 columns):\n",
      "a    2 non-null int64\n",
      "b    2 non-null int64\n",
      "c    1 non-null float64\n",
      "dtypes: float64(1), int64(2)\n",
      "memory usage: 120.0 bytes\n"
     ]
    }
   ],
   "source": [
    "df_data2.info()"
   ]
  },
  {
   "cell_type": "code",
   "execution_count": 94,
   "metadata": {},
   "outputs": [
    {
     "data": {
      "text/html": [
       "<div>\n",
       "<style>\n",
       "    .dataframe thead tr:only-child th {\n",
       "        text-align: right;\n",
       "    }\n",
       "\n",
       "    .dataframe thead th {\n",
       "        text-align: left;\n",
       "    }\n",
       "\n",
       "    .dataframe tbody tr th {\n",
       "        vertical-align: top;\n",
       "    }\n",
       "</style>\n",
       "<table border=\"1\" class=\"dataframe\">\n",
       "  <thead>\n",
       "    <tr style=\"text-align: right;\">\n",
       "      <th></th>\n",
       "      <th>a</th>\n",
       "      <th>b</th>\n",
       "      <th>c</th>\n",
       "    </tr>\n",
       "  </thead>\n",
       "  <tbody>\n",
       "    <tr>\n",
       "      <th>0</th>\n",
       "      <td>1</td>\n",
       "      <td>2</td>\n",
       "      <td>NaN</td>\n",
       "    </tr>\n",
       "    <tr>\n",
       "      <th>1</th>\n",
       "      <td>5</td>\n",
       "      <td>10</td>\n",
       "      <td>20.0</td>\n",
       "    </tr>\n",
       "  </tbody>\n",
       "</table>\n",
       "</div>"
      ],
      "text/plain": [
       "   a   b     c\n",
       "0  1   2   NaN\n",
       "1  5  10  20.0"
      ]
     },
     "execution_count": 94,
     "metadata": {},
     "output_type": "execute_result"
    }
   ],
   "source": [
    "df_data2"
   ]
  },
  {
   "cell_type": "code",
   "execution_count": 103,
   "metadata": {},
   "outputs": [
    {
     "data": {
      "text/plain": [
       "<matplotlib.collections.PathCollection at 0x10e464c50>"
      ]
     },
     "execution_count": 103,
     "metadata": {},
     "output_type": "execute_result"
    },
    {
     "data": {
      "image/png": "[encoded data removed]",
      "text/plain": [
       "<matplotlib.figure.Figure at 0x10e421b50>"
      ]
     },
     "metadata": {},
     "output_type": "display_data"
    }
   ],
   "source": [
    "plt.scatter(tsdf['A'],tsdf['B'])"
   ]
  },
  {
   "cell_type": "code",
   "execution_count": 3,
   "metadata": {},
   "outputs": [
    {
     "name": "stdout",
     "output_type": "stream",
     "text": [
      "/Users/Shawn_Ma/Desktop/python practice\r\n"
     ]
    }
   ],
   "source": [
    "!pwd"
   ]
  },
  {
   "cell_type": "markdown",
   "metadata": {},
   "source": [
    "## 数据分析范例1: babynames数据集"
   ]
  },
  {
   "cell_type": "code",
   "execution_count": 5,
   "metadata": {
    "collapsed": true
   },
   "outputs": [],
   "source": [
    "names1880 = pd.read_csv('/Users/Shawn_Ma/Desktop/pydata-book-2nd-edition/datasets/babynames/yob1880.txt',\\\n",
    "                        names=['name','sex','births']\n",
    ")"
   ]
  },
  {
   "cell_type": "code",
   "execution_count": 7,
   "metadata": {},
   "outputs": [
    {
     "name": "stdout",
     "output_type": "stream",
     "text": [
      "<class 'pandas.core.frame.DataFrame'>\n",
      "RangeIndex: 2000 entries, 0 to 1999\n",
      "Data columns (total 3 columns):\n",
      "name      2000 non-null object\n",
      "sex       2000 non-null object\n",
      "births    2000 non-null int64\n",
      "dtypes: int64(1), object(2)\n",
      "memory usage: 46.9+ KB\n"
     ]
    }
   ],
   "source": [
    "names1880.info()"
   ]
  },
  {
   "cell_type": "code",
   "execution_count": 8,
   "metadata": {},
   "outputs": [
    {
     "data": {
      "text/plain": [
       "sex\n",
       "F     90993\n",
       "M    110493\n",
       "Name: births, dtype: int64"
      ]
     },
     "execution_count": 8,
     "metadata": {},
     "output_type": "execute_result"
    }
   ],
   "source": [
    "names1880.groupby('sex').births.sum()"
   ]
  },
  {
   "cell_type": "code",
   "execution_count": 9,
   "metadata": {
    "collapsed": true
   },
   "outputs": [],
   "source": [
    "years= range(1880,2011)"
   ]
  },
  {
   "cell_type": "code",
   "execution_count": 11,
   "metadata": {
    "collapsed": true
   },
   "outputs": [],
   "source": [
    "pieces=[]"
   ]
  },
  {
   "cell_type": "code",
   "execution_count": 12,
   "metadata": {
    "collapsed": true
   },
   "outputs": [],
   "source": [
    "columns = ['name','sex','births']"
   ]
  },
  {
   "cell_type": "code",
   "execution_count": 13,
   "metadata": {
    "collapsed": true
   },
   "outputs": [],
   "source": [
    "for year in years:\n",
    "    path='/Users/Shawn_Ma/Desktop/pydata-book-2nd-edition/datasets/babynames/yob%d.txt' %year\n",
    "    frame=pd.read_csv(path,names=columns)\n",
    "    frame['year']=year\n",
    "    pieces.append(frame)"
   ]
  },
  {
   "cell_type": "code",
   "execution_count": 17,
   "metadata": {
    "collapsed": true
   },
   "outputs": [],
   "source": [
    "names=pd.concat(pieces,ignore_index=True)"
   ]
  },
  {
   "cell_type": "code",
   "execution_count": 21,
   "metadata": {
    "collapsed": true
   },
   "outputs": [],
   "source": [
    "total_births = pd.pivot_table(data=names,index='year',columns='sex',values='births',aggfunc=sum)"
   ]
  },
  {
   "cell_type": "code",
   "execution_count": 51,
   "metadata": {
    "collapsed": true
   },
   "outputs": [],
   "source": [
    "total_births_crstb = pd.crosstab(index=names['year'],columns=names['sex'],\\\n",
    "                                 values=names['births'],aggfunc=sum)"
   ]
  },
  {
   "cell_type": "code",
   "execution_count": 52,
   "metadata": {},
   "outputs": [
    {
     "data": {
      "text/html": [
       "<div>\n",
       "<style>\n",
       "    .dataframe thead tr:only-child th {\n",
       "        text-align: right;\n",
       "    }\n",
       "\n",
       "    .dataframe thead th {\n",
       "        text-align: left;\n",
       "    }\n",
       "\n",
       "    .dataframe tbody tr th {\n",
       "        vertical-align: top;\n",
       "    }\n",
       "</style>\n",
       "<table border=\"1\" class=\"dataframe\">\n",
       "  <thead>\n",
       "    <tr style=\"text-align: right;\">\n",
       "      <th>sex</th>\n",
       "      <th>F</th>\n",
       "      <th>M</th>\n",
       "    </tr>\n",
       "    <tr>\n",
       "      <th>year</th>\n",
       "      <th></th>\n",
       "      <th></th>\n",
       "    </tr>\n",
       "  </thead>\n",
       "  <tbody>\n",
       "    <tr>\n",
       "      <th>2001</th>\n",
       "      <td>1798284</td>\n",
       "      <td>1940498</td>\n",
       "    </tr>\n",
       "    <tr>\n",
       "      <th>2002</th>\n",
       "      <td>1794358</td>\n",
       "      <td>1938941</td>\n",
       "    </tr>\n",
       "    <tr>\n",
       "      <th>2003</th>\n",
       "      <td>1824406</td>\n",
       "      <td>1972439</td>\n",
       "    </tr>\n",
       "    <tr>\n",
       "      <th>2004</th>\n",
       "      <td>1833005</td>\n",
       "      <td>1981557</td>\n",
       "    </tr>\n",
       "    <tr>\n",
       "      <th>2005</th>\n",
       "      <td>1843890</td>\n",
       "      <td>1993285</td>\n",
       "    </tr>\n",
       "    <tr>\n",
       "      <th>2006</th>\n",
       "      <td>1896468</td>\n",
       "      <td>2050234</td>\n",
       "    </tr>\n",
       "    <tr>\n",
       "      <th>2007</th>\n",
       "      <td>1916888</td>\n",
       "      <td>2069242</td>\n",
       "    </tr>\n",
       "    <tr>\n",
       "      <th>2008</th>\n",
       "      <td>1883645</td>\n",
       "      <td>2032310</td>\n",
       "    </tr>\n",
       "    <tr>\n",
       "      <th>2009</th>\n",
       "      <td>1827643</td>\n",
       "      <td>1973359</td>\n",
       "    </tr>\n",
       "    <tr>\n",
       "      <th>2010</th>\n",
       "      <td>1759010</td>\n",
       "      <td>1898382</td>\n",
       "    </tr>\n",
       "  </tbody>\n",
       "</table>\n",
       "</div>"
      ],
      "text/plain": [
       "sex         F        M\n",
       "year                  \n",
       "2001  1798284  1940498\n",
       "2002  1794358  1938941\n",
       "2003  1824406  1972439\n",
       "2004  1833005  1981557\n",
       "2005  1843890  1993285\n",
       "2006  1896468  2050234\n",
       "2007  1916888  2069242\n",
       "2008  1883645  2032310\n",
       "2009  1827643  1973359\n",
       "2010  1759010  1898382"
      ]
     },
     "execution_count": 52,
     "metadata": {},
     "output_type": "execute_result"
    }
   ],
   "source": [
    "total_births_crstb.tail(10)"
   ]
  },
  {
   "cell_type": "code",
   "execution_count": 23,
   "metadata": {
    "scrolled": true
   },
   "outputs": [
    {
     "data": {
      "text/html": [
       "<div>\n",
       "<style>\n",
       "    .dataframe thead tr:only-child th {\n",
       "        text-align: right;\n",
       "    }\n",
       "\n",
       "    .dataframe thead th {\n",
       "        text-align: left;\n",
       "    }\n",
       "\n",
       "    .dataframe tbody tr th {\n",
       "        vertical-align: top;\n",
       "    }\n",
       "</style>\n",
       "<table border=\"1\" class=\"dataframe\">\n",
       "  <thead>\n",
       "    <tr style=\"text-align: right;\">\n",
       "      <th>sex</th>\n",
       "      <th>F</th>\n",
       "      <th>M</th>\n",
       "    </tr>\n",
       "    <tr>\n",
       "      <th>year</th>\n",
       "      <th></th>\n",
       "      <th></th>\n",
       "    </tr>\n",
       "  </thead>\n",
       "  <tbody>\n",
       "    <tr>\n",
       "      <th>2001</th>\n",
       "      <td>1798284</td>\n",
       "      <td>1940498</td>\n",
       "    </tr>\n",
       "    <tr>\n",
       "      <th>2002</th>\n",
       "      <td>1794358</td>\n",
       "      <td>1938941</td>\n",
       "    </tr>\n",
       "    <tr>\n",
       "      <th>2003</th>\n",
       "      <td>1824406</td>\n",
       "      <td>1972439</td>\n",
       "    </tr>\n",
       "    <tr>\n",
       "      <th>2004</th>\n",
       "      <td>1833005</td>\n",
       "      <td>1981557</td>\n",
       "    </tr>\n",
       "    <tr>\n",
       "      <th>2005</th>\n",
       "      <td>1843890</td>\n",
       "      <td>1993285</td>\n",
       "    </tr>\n",
       "    <tr>\n",
       "      <th>2006</th>\n",
       "      <td>1896468</td>\n",
       "      <td>2050234</td>\n",
       "    </tr>\n",
       "    <tr>\n",
       "      <th>2007</th>\n",
       "      <td>1916888</td>\n",
       "      <td>2069242</td>\n",
       "    </tr>\n",
       "    <tr>\n",
       "      <th>2008</th>\n",
       "      <td>1883645</td>\n",
       "      <td>2032310</td>\n",
       "    </tr>\n",
       "    <tr>\n",
       "      <th>2009</th>\n",
       "      <td>1827643</td>\n",
       "      <td>1973359</td>\n",
       "    </tr>\n",
       "    <tr>\n",
       "      <th>2010</th>\n",
       "      <td>1759010</td>\n",
       "      <td>1898382</td>\n",
       "    </tr>\n",
       "  </tbody>\n",
       "</table>\n",
       "</div>"
      ],
      "text/plain": [
       "sex         F        M\n",
       "year                  \n",
       "2001  1798284  1940498\n",
       "2002  1794358  1938941\n",
       "2003  1824406  1972439\n",
       "2004  1833005  1981557\n",
       "2005  1843890  1993285\n",
       "2006  1896468  2050234\n",
       "2007  1916888  2069242\n",
       "2008  1883645  2032310\n",
       "2009  1827643  1973359\n",
       "2010  1759010  1898382"
      ]
     },
     "execution_count": 23,
     "metadata": {},
     "output_type": "execute_result"
    }
   ],
   "source": [
    "total_births.tail(10)"
   ]
  },
  {
   "cell_type": "markdown",
   "metadata": {},
   "source": [
    "##### prop为某一个名字在某个性别，某个年份内出现的比例"
   ]
  },
  {
   "cell_type": "code",
   "execution_count": 24,
   "metadata": {
    "collapsed": true
   },
   "outputs": [],
   "source": [
    "def add_prop(group):\n",
    "    births=group.births.astype(float)\n",
    "    group['prop']=births / births.sum()\n",
    "    return group"
   ]
  },
  {
   "cell_type": "code",
   "execution_count": 26,
   "metadata": {
    "collapsed": true
   },
   "outputs": [],
   "source": [
    "ng = names.groupby(['year','sex'])"
   ]
  },
  {
   "cell_type": "code",
   "execution_count": 35,
   "metadata": {},
   "outputs": [
    {
     "data": {
      "text/plain": [
       "pandas.core.frame.DataFrame"
      ]
     },
     "execution_count": 35,
     "metadata": {},
     "output_type": "execute_result"
    }
   ],
   "source": [
    "type(ng.get_group((1880,'M')))"
   ]
  },
  {
   "cell_type": "code",
   "execution_count": 37,
   "metadata": {
    "collapsed": true
   },
   "outputs": [],
   "source": [
    "names= ng.apply(add_prop)"
   ]
  },
  {
   "cell_type": "code",
   "execution_count": 42,
   "metadata": {
    "scrolled": true
   },
   "outputs": [
    {
     "data": {
      "text/plain": [
       "year  sex\n",
       "1880  F      1.0\n",
       "      M      1.0\n",
       "1881  F      1.0\n",
       "      M      1.0\n",
       "1882  F      1.0\n",
       "      M      1.0\n",
       "1883  F      1.0\n",
       "      M      1.0\n",
       "1884  F      1.0\n",
       "      M      1.0\n",
       "1885  F      1.0\n",
       "      M      1.0\n",
       "1886  F      1.0\n",
       "      M      1.0\n",
       "1887  F      1.0\n",
       "      M      1.0\n",
       "1888  F      1.0\n",
       "      M      1.0\n",
       "1889  F      1.0\n",
       "      M      1.0\n",
       "1890  F      1.0\n",
       "      M      1.0\n",
       "1891  F      1.0\n",
       "      M      1.0\n",
       "1892  F      1.0\n",
       "      M      1.0\n",
       "1893  F      1.0\n",
       "      M      1.0\n",
       "1894  F      1.0\n",
       "      M      1.0\n",
       "            ... \n",
       "1996  F      1.0\n",
       "      M      1.0\n",
       "1997  F      1.0\n",
       "      M      1.0\n",
       "1998  F      1.0\n",
       "      M      1.0\n",
       "1999  F      1.0\n",
       "      M      1.0\n",
       "2000  F      1.0\n",
       "      M      1.0\n",
       "2001  F      1.0\n",
       "      M      1.0\n",
       "2002  F      1.0\n",
       "      M      1.0\n",
       "2003  F      1.0\n",
       "      M      1.0\n",
       "2004  F      1.0\n",
       "      M      1.0\n",
       "2005  F      1.0\n",
       "      M      1.0\n",
       "2006  F      1.0\n",
       "      M      1.0\n",
       "2007  F      1.0\n",
       "      M      1.0\n",
       "2008  F      1.0\n",
       "      M      1.0\n",
       "2009  F      1.0\n",
       "      M      1.0\n",
       "2010  F      1.0\n",
       "      M      1.0\n",
       "Name: prop, Length: 262, dtype: float64"
      ]
     },
     "execution_count": 42,
     "metadata": {},
     "output_type": "execute_result"
    }
   ],
   "source": [
    "names.groupby(['year','sex']).prop.sum()"
   ]
  },
  {
   "cell_type": "markdown",
   "metadata": {},
   "source": [
    "##### find out man whose name is marry! "
   ]
  },
  {
   "cell_type": "code",
   "execution_count": 41,
   "metadata": {
    "scrolled": true
   },
   "outputs": [
    {
     "data": {
      "text/html": [
       "<div>\n",
       "<style>\n",
       "    .dataframe thead tr:only-child th {\n",
       "        text-align: right;\n",
       "    }\n",
       "\n",
       "    .dataframe thead th {\n",
       "        text-align: left;\n",
       "    }\n",
       "\n",
       "    .dataframe tbody tr th {\n",
       "        vertical-align: top;\n",
       "    }\n",
       "</style>\n",
       "<table border=\"1\" class=\"dataframe\">\n",
       "  <thead>\n",
       "    <tr style=\"text-align: right;\">\n",
       "      <th></th>\n",
       "      <th>name</th>\n",
       "      <th>sex</th>\n",
       "      <th>births</th>\n",
       "      <th>year</th>\n",
       "      <th>prop</th>\n",
       "    </tr>\n",
       "  </thead>\n",
       "  <tbody>\n",
       "    <tr>\n",
       "      <th>1273</th>\n",
       "      <td>Mary</td>\n",
       "      <td>M</td>\n",
       "      <td>27</td>\n",
       "      <td>1880</td>\n",
       "      <td>0.000244</td>\n",
       "    </tr>\n",
       "    <tr>\n",
       "      <th>3238</th>\n",
       "      <td>Mary</td>\n",
       "      <td>M</td>\n",
       "      <td>29</td>\n",
       "      <td>1881</td>\n",
       "      <td>0.000288</td>\n",
       "    </tr>\n",
       "    <tr>\n",
       "      <th>5277</th>\n",
       "      <td>Mary</td>\n",
       "      <td>M</td>\n",
       "      <td>30</td>\n",
       "      <td>1882</td>\n",
       "      <td>0.000264</td>\n",
       "    </tr>\n",
       "    <tr>\n",
       "      <th>7407</th>\n",
       "      <td>Mary</td>\n",
       "      <td>M</td>\n",
       "      <td>32</td>\n",
       "      <td>1883</td>\n",
       "      <td>0.000306</td>\n",
       "    </tr>\n",
       "    <tr>\n",
       "      <th>9610</th>\n",
       "      <td>Mary</td>\n",
       "      <td>M</td>\n",
       "      <td>36</td>\n",
       "      <td>1884</td>\n",
       "      <td>0.000315</td>\n",
       "    </tr>\n",
       "    <tr>\n",
       "      <th>11910</th>\n",
       "      <td>Mary</td>\n",
       "      <td>M</td>\n",
       "      <td>38</td>\n",
       "      <td>1885</td>\n",
       "      <td>0.000352</td>\n",
       "    </tr>\n",
       "    <tr>\n",
       "      <th>14323</th>\n",
       "      <td>Mary</td>\n",
       "      <td>M</td>\n",
       "      <td>32</td>\n",
       "      <td>1886</td>\n",
       "      <td>0.000289</td>\n",
       "    </tr>\n",
       "    <tr>\n",
       "      <th>16671</th>\n",
       "      <td>Mary</td>\n",
       "      <td>M</td>\n",
       "      <td>47</td>\n",
       "      <td>1887</td>\n",
       "      <td>0.000463</td>\n",
       "    </tr>\n",
       "    <tr>\n",
       "      <th>19223</th>\n",
       "      <td>Mary</td>\n",
       "      <td>M</td>\n",
       "      <td>50</td>\n",
       "      <td>1888</td>\n",
       "      <td>0.000414</td>\n",
       "    </tr>\n",
       "    <tr>\n",
       "      <th>21893</th>\n",
       "      <td>Mary</td>\n",
       "      <td>M</td>\n",
       "      <td>41</td>\n",
       "      <td>1889</td>\n",
       "      <td>0.000371</td>\n",
       "    </tr>\n",
       "    <tr>\n",
       "      <th>24569</th>\n",
       "      <td>Mary</td>\n",
       "      <td>M</td>\n",
       "      <td>35</td>\n",
       "      <td>1890</td>\n",
       "      <td>0.000315</td>\n",
       "    </tr>\n",
       "    <tr>\n",
       "      <th>27229</th>\n",
       "      <td>Mary</td>\n",
       "      <td>M</td>\n",
       "      <td>39</td>\n",
       "      <td>1891</td>\n",
       "      <td>0.000385</td>\n",
       "    </tr>\n",
       "    <tr>\n",
       "      <th>30009</th>\n",
       "      <td>Mary</td>\n",
       "      <td>M</td>\n",
       "      <td>50</td>\n",
       "      <td>1892</td>\n",
       "      <td>0.000410</td>\n",
       "    </tr>\n",
       "    <tr>\n",
       "      <th>32902</th>\n",
       "      <td>Mary</td>\n",
       "      <td>M</td>\n",
       "      <td>55</td>\n",
       "      <td>1893</td>\n",
       "      <td>0.000490</td>\n",
       "    </tr>\n",
       "    <tr>\n",
       "      <th>35802</th>\n",
       "      <td>Mary</td>\n",
       "      <td>M</td>\n",
       "      <td>48</td>\n",
       "      <td>1894</td>\n",
       "      <td>0.000415</td>\n",
       "    </tr>\n",
       "    <tr>\n",
       "      <th>38859</th>\n",
       "      <td>Mary</td>\n",
       "      <td>M</td>\n",
       "      <td>47</td>\n",
       "      <td>1895</td>\n",
       "      <td>0.000400</td>\n",
       "    </tr>\n",
       "    <tr>\n",
       "      <th>41906</th>\n",
       "      <td>Mary</td>\n",
       "      <td>M</td>\n",
       "      <td>57</td>\n",
       "      <td>1896</td>\n",
       "      <td>0.000477</td>\n",
       "    </tr>\n",
       "    <tr>\n",
       "      <th>44940</th>\n",
       "      <td>Mary</td>\n",
       "      <td>M</td>\n",
       "      <td>63</td>\n",
       "      <td>1897</td>\n",
       "      <td>0.000559</td>\n",
       "    </tr>\n",
       "    <tr>\n",
       "      <th>48184</th>\n",
       "      <td>Mary</td>\n",
       "      <td>M</td>\n",
       "      <td>50</td>\n",
       "      <td>1898</td>\n",
       "      <td>0.000407</td>\n",
       "    </tr>\n",
       "    <tr>\n",
       "      <th>51301</th>\n",
       "      <td>Mary</td>\n",
       "      <td>M</td>\n",
       "      <td>50</td>\n",
       "      <td>1899</td>\n",
       "      <td>0.000471</td>\n",
       "    </tr>\n",
       "    <tr>\n",
       "      <th>54724</th>\n",
       "      <td>Mary</td>\n",
       "      <td>M</td>\n",
       "      <td>75</td>\n",
       "      <td>1900</td>\n",
       "      <td>0.000498</td>\n",
       "    </tr>\n",
       "    <tr>\n",
       "      <th>58172</th>\n",
       "      <td>Mary</td>\n",
       "      <td>M</td>\n",
       "      <td>58</td>\n",
       "      <td>1901</td>\n",
       "      <td>0.000545</td>\n",
       "    </tr>\n",
       "    <tr>\n",
       "      <th>61442</th>\n",
       "      <td>Mary</td>\n",
       "      <td>M</td>\n",
       "      <td>56</td>\n",
       "      <td>1902</td>\n",
       "      <td>0.000457</td>\n",
       "    </tr>\n",
       "    <tr>\n",
       "      <th>64826</th>\n",
       "      <td>Mary</td>\n",
       "      <td>M</td>\n",
       "      <td>63</td>\n",
       "      <td>1903</td>\n",
       "      <td>0.000528</td>\n",
       "    </tr>\n",
       "    <tr>\n",
       "      <th>68320</th>\n",
       "      <td>Mary</td>\n",
       "      <td>M</td>\n",
       "      <td>58</td>\n",
       "      <td>1904</td>\n",
       "      <td>0.000453</td>\n",
       "    </tr>\n",
       "    <tr>\n",
       "      <th>71937</th>\n",
       "      <td>Mary</td>\n",
       "      <td>M</td>\n",
       "      <td>68</td>\n",
       "      <td>1905</td>\n",
       "      <td>0.000514</td>\n",
       "    </tr>\n",
       "    <tr>\n",
       "      <th>75564</th>\n",
       "      <td>Mary</td>\n",
       "      <td>M</td>\n",
       "      <td>76</td>\n",
       "      <td>1906</td>\n",
       "      <td>0.000571</td>\n",
       "    </tr>\n",
       "    <tr>\n",
       "      <th>79403</th>\n",
       "      <td>Mary</td>\n",
       "      <td>M</td>\n",
       "      <td>70</td>\n",
       "      <td>1907</td>\n",
       "      <td>0.000477</td>\n",
       "    </tr>\n",
       "    <tr>\n",
       "      <th>83370</th>\n",
       "      <td>Mary</td>\n",
       "      <td>M</td>\n",
       "      <td>79</td>\n",
       "      <td>1908</td>\n",
       "      <td>0.000512</td>\n",
       "    </tr>\n",
       "    <tr>\n",
       "      <th>87514</th>\n",
       "      <td>Mary</td>\n",
       "      <td>M</td>\n",
       "      <td>80</td>\n",
       "      <td>1909</td>\n",
       "      <td>0.000488</td>\n",
       "    </tr>\n",
       "    <tr>\n",
       "      <th>...</th>\n",
       "      <td>...</td>\n",
       "      <td>...</td>\n",
       "      <td>...</td>\n",
       "      <td>...</td>\n",
       "      <td>...</td>\n",
       "    </tr>\n",
       "    <tr>\n",
       "      <th>838911</th>\n",
       "      <td>Mary</td>\n",
       "      <td>M</td>\n",
       "      <td>61</td>\n",
       "      <td>1978</td>\n",
       "      <td>0.000037</td>\n",
       "    </tr>\n",
       "    <tr>\n",
       "      <th>857600</th>\n",
       "      <td>Mary</td>\n",
       "      <td>M</td>\n",
       "      <td>65</td>\n",
       "      <td>1979</td>\n",
       "      <td>0.000038</td>\n",
       "    </tr>\n",
       "    <tr>\n",
       "      <th>876999</th>\n",
       "      <td>Mary</td>\n",
       "      <td>M</td>\n",
       "      <td>52</td>\n",
       "      <td>1980</td>\n",
       "      <td>0.000029</td>\n",
       "    </tr>\n",
       "    <tr>\n",
       "      <th>896274</th>\n",
       "      <td>Mary</td>\n",
       "      <td>M</td>\n",
       "      <td>66</td>\n",
       "      <td>1981</td>\n",
       "      <td>0.000037</td>\n",
       "    </tr>\n",
       "    <tr>\n",
       "      <th>915807</th>\n",
       "      <td>Mary</td>\n",
       "      <td>M</td>\n",
       "      <td>73</td>\n",
       "      <td>1982</td>\n",
       "      <td>0.000040</td>\n",
       "    </tr>\n",
       "    <tr>\n",
       "      <th>935353</th>\n",
       "      <td>Mary</td>\n",
       "      <td>M</td>\n",
       "      <td>57</td>\n",
       "      <td>1983</td>\n",
       "      <td>0.000032</td>\n",
       "    </tr>\n",
       "    <tr>\n",
       "      <th>954870</th>\n",
       "      <td>Mary</td>\n",
       "      <td>M</td>\n",
       "      <td>56</td>\n",
       "      <td>1984</td>\n",
       "      <td>0.000031</td>\n",
       "    </tr>\n",
       "    <tr>\n",
       "      <th>974601</th>\n",
       "      <td>Mary</td>\n",
       "      <td>M</td>\n",
       "      <td>67</td>\n",
       "      <td>1985</td>\n",
       "      <td>0.000036</td>\n",
       "    </tr>\n",
       "    <tr>\n",
       "      <th>995312</th>\n",
       "      <td>Mary</td>\n",
       "      <td>M</td>\n",
       "      <td>47</td>\n",
       "      <td>1986</td>\n",
       "      <td>0.000026</td>\n",
       "    </tr>\n",
       "    <tr>\n",
       "      <th>1016066</th>\n",
       "      <td>Mary</td>\n",
       "      <td>M</td>\n",
       "      <td>69</td>\n",
       "      <td>1987</td>\n",
       "      <td>0.000037</td>\n",
       "    </tr>\n",
       "    <tr>\n",
       "      <th>1038442</th>\n",
       "      <td>Mary</td>\n",
       "      <td>M</td>\n",
       "      <td>48</td>\n",
       "      <td>1988</td>\n",
       "      <td>0.000025</td>\n",
       "    </tr>\n",
       "    <tr>\n",
       "      <th>1061179</th>\n",
       "      <td>Mary</td>\n",
       "      <td>M</td>\n",
       "      <td>74</td>\n",
       "      <td>1989</td>\n",
       "      <td>0.000037</td>\n",
       "    </tr>\n",
       "    <tr>\n",
       "      <th>1086166</th>\n",
       "      <td>Mary</td>\n",
       "      <td>M</td>\n",
       "      <td>44</td>\n",
       "      <td>1990</td>\n",
       "      <td>0.000021</td>\n",
       "    </tr>\n",
       "    <tr>\n",
       "      <th>1111524</th>\n",
       "      <td>Mary</td>\n",
       "      <td>M</td>\n",
       "      <td>33</td>\n",
       "      <td>1991</td>\n",
       "      <td>0.000016</td>\n",
       "    </tr>\n",
       "    <tr>\n",
       "      <th>1137347</th>\n",
       "      <td>Mary</td>\n",
       "      <td>M</td>\n",
       "      <td>25</td>\n",
       "      <td>1992</td>\n",
       "      <td>0.000013</td>\n",
       "    </tr>\n",
       "    <tr>\n",
       "      <th>1163747</th>\n",
       "      <td>Mary</td>\n",
       "      <td>M</td>\n",
       "      <td>18</td>\n",
       "      <td>1993</td>\n",
       "      <td>0.000009</td>\n",
       "    </tr>\n",
       "    <tr>\n",
       "      <th>1191790</th>\n",
       "      <td>Mary</td>\n",
       "      <td>M</td>\n",
       "      <td>10</td>\n",
       "      <td>1994</td>\n",
       "      <td>0.000005</td>\n",
       "    </tr>\n",
       "    <tr>\n",
       "      <th>1216748</th>\n",
       "      <td>Mary</td>\n",
       "      <td>M</td>\n",
       "      <td>13</td>\n",
       "      <td>1995</td>\n",
       "      <td>0.000007</td>\n",
       "    </tr>\n",
       "    <tr>\n",
       "      <th>1242570</th>\n",
       "      <td>Mary</td>\n",
       "      <td>M</td>\n",
       "      <td>15</td>\n",
       "      <td>1996</td>\n",
       "      <td>0.000008</td>\n",
       "    </tr>\n",
       "    <tr>\n",
       "      <th>1269790</th>\n",
       "      <td>Mary</td>\n",
       "      <td>M</td>\n",
       "      <td>13</td>\n",
       "      <td>1997</td>\n",
       "      <td>0.000007</td>\n",
       "    </tr>\n",
       "    <tr>\n",
       "      <th>1297408</th>\n",
       "      <td>Mary</td>\n",
       "      <td>M</td>\n",
       "      <td>13</td>\n",
       "      <td>1998</td>\n",
       "      <td>0.000007</td>\n",
       "    </tr>\n",
       "    <tr>\n",
       "      <th>1326468</th>\n",
       "      <td>Mary</td>\n",
       "      <td>M</td>\n",
       "      <td>11</td>\n",
       "      <td>1999</td>\n",
       "      <td>0.000006</td>\n",
       "    </tr>\n",
       "    <tr>\n",
       "      <th>1356463</th>\n",
       "      <td>Mary</td>\n",
       "      <td>M</td>\n",
       "      <td>10</td>\n",
       "      <td>2000</td>\n",
       "      <td>0.000005</td>\n",
       "    </tr>\n",
       "    <tr>\n",
       "      <th>1385450</th>\n",
       "      <td>Mary</td>\n",
       "      <td>M</td>\n",
       "      <td>13</td>\n",
       "      <td>2001</td>\n",
       "      <td>0.000007</td>\n",
       "    </tr>\n",
       "    <tr>\n",
       "      <th>1416193</th>\n",
       "      <td>Mary</td>\n",
       "      <td>M</td>\n",
       "      <td>12</td>\n",
       "      <td>2002</td>\n",
       "      <td>0.000006</td>\n",
       "    </tr>\n",
       "    <tr>\n",
       "      <th>1448763</th>\n",
       "      <td>Mary</td>\n",
       "      <td>M</td>\n",
       "      <td>9</td>\n",
       "      <td>2003</td>\n",
       "      <td>0.000005</td>\n",
       "    </tr>\n",
       "    <tr>\n",
       "      <th>1475956</th>\n",
       "      <td>Mary</td>\n",
       "      <td>M</td>\n",
       "      <td>30</td>\n",
       "      <td>2004</td>\n",
       "      <td>0.000015</td>\n",
       "    </tr>\n",
       "    <tr>\n",
       "      <th>1512534</th>\n",
       "      <td>Mary</td>\n",
       "      <td>M</td>\n",
       "      <td>10</td>\n",
       "      <td>2005</td>\n",
       "      <td>0.000005</td>\n",
       "    </tr>\n",
       "    <tr>\n",
       "      <th>1546240</th>\n",
       "      <td>Mary</td>\n",
       "      <td>M</td>\n",
       "      <td>10</td>\n",
       "      <td>2006</td>\n",
       "      <td>0.000005</td>\n",
       "    </tr>\n",
       "    <tr>\n",
       "      <th>1581614</th>\n",
       "      <td>Mary</td>\n",
       "      <td>M</td>\n",
       "      <td>9</td>\n",
       "      <td>2007</td>\n",
       "      <td>0.000004</td>\n",
       "    </tr>\n",
       "  </tbody>\n",
       "</table>\n",
       "<p>128 rows × 5 columns</p>\n",
       "</div>"
      ],
      "text/plain": [
       "         name sex  births  year      prop\n",
       "1273     Mary   M      27  1880  0.000244\n",
       "3238     Mary   M      29  1881  0.000288\n",
       "5277     Mary   M      30  1882  0.000264\n",
       "7407     Mary   M      32  1883  0.000306\n",
       "9610     Mary   M      36  1884  0.000315\n",
       "11910    Mary   M      38  1885  0.000352\n",
       "14323    Mary   M      32  1886  0.000289\n",
       "16671    Mary   M      47  1887  0.000463\n",
       "19223    Mary   M      50  1888  0.000414\n",
       "21893    Mary   M      41  1889  0.000371\n",
       "24569    Mary   M      35  1890  0.000315\n",
       "27229    Mary   M      39  1891  0.000385\n",
       "30009    Mary   M      50  1892  0.000410\n",
       "32902    Mary   M      55  1893  0.000490\n",
       "35802    Mary   M      48  1894  0.000415\n",
       "38859    Mary   M      47  1895  0.000400\n",
       "41906    Mary   M      57  1896  0.000477\n",
       "44940    Mary   M      63  1897  0.000559\n",
       "48184    Mary   M      50  1898  0.000407\n",
       "51301    Mary   M      50  1899  0.000471\n",
       "54724    Mary   M      75  1900  0.000498\n",
       "58172    Mary   M      58  1901  0.000545\n",
       "61442    Mary   M      56  1902  0.000457\n",
       "64826    Mary   M      63  1903  0.000528\n",
       "68320    Mary   M      58  1904  0.000453\n",
       "71937    Mary   M      68  1905  0.000514\n",
       "75564    Mary   M      76  1906  0.000571\n",
       "79403    Mary   M      70  1907  0.000477\n",
       "83370    Mary   M      79  1908  0.000512\n",
       "87514    Mary   M      80  1909  0.000488\n",
       "...       ...  ..     ...   ...       ...\n",
       "838911   Mary   M      61  1978  0.000037\n",
       "857600   Mary   M      65  1979  0.000038\n",
       "876999   Mary   M      52  1980  0.000029\n",
       "896274   Mary   M      66  1981  0.000037\n",
       "915807   Mary   M      73  1982  0.000040\n",
       "935353   Mary   M      57  1983  0.000032\n",
       "954870   Mary   M      56  1984  0.000031\n",
       "974601   Mary   M      67  1985  0.000036\n",
       "995312   Mary   M      47  1986  0.000026\n",
       "1016066  Mary   M      69  1987  0.000037\n",
       "1038442  Mary   M      48  1988  0.000025\n",
       "1061179  Mary   M      74  1989  0.000037\n",
       "1086166  Mary   M      44  1990  0.000021\n",
       "1111524  Mary   M      33  1991  0.000016\n",
       "1137347  Mary   M      25  1992  0.000013\n",
       "1163747  Mary   M      18  1993  0.000009\n",
       "1191790  Mary   M      10  1994  0.000005\n",
       "1216748  Mary   M      13  1995  0.000007\n",
       "1242570  Mary   M      15  1996  0.000008\n",
       "1269790  Mary   M      13  1997  0.000007\n",
       "1297408  Mary   M      13  1998  0.000007\n",
       "1326468  Mary   M      11  1999  0.000006\n",
       "1356463  Mary   M      10  2000  0.000005\n",
       "1385450  Mary   M      13  2001  0.000007\n",
       "1416193  Mary   M      12  2002  0.000006\n",
       "1448763  Mary   M       9  2003  0.000005\n",
       "1475956  Mary   M      30  2004  0.000015\n",
       "1512534  Mary   M      10  2005  0.000005\n",
       "1546240  Mary   M      10  2006  0.000005\n",
       "1581614  Mary   M       9  2007  0.000004\n",
       "\n",
       "[128 rows x 5 columns]"
      ]
     },
     "execution_count": 41,
     "metadata": {},
     "output_type": "execute_result"
    }
   ],
   "source": [
    "names.loc[(names.name=='Mary')&(names.sex=='M')]"
   ]
  },
  {
   "cell_type": "code",
   "execution_count": 53,
   "metadata": {
    "collapsed": true
   },
   "outputs": [],
   "source": [
    "mary = names.loc[(names.name=='Mary')]"
   ]
  },
  {
   "cell_type": "code",
   "execution_count": 64,
   "metadata": {
    "collapsed": true
   },
   "outputs": [],
   "source": [
    "mary.set_index('year',inplace=True)"
   ]
  },
  {
   "cell_type": "code",
   "execution_count": 70,
   "metadata": {
    "collapsed": true
   },
   "outputs": [],
   "source": [
    "mary_pivot = mary.pivot(columns='sex',values='prop')"
   ]
  },
  {
   "cell_type": "code",
   "execution_count": 76,
   "metadata": {},
   "outputs": [
    {
     "data": {
      "text/plain": [
       "Index([u'F', u'M'], dtype='object', name=u'sex')"
      ]
     },
     "execution_count": 76,
     "metadata": {},
     "output_type": "execute_result"
    }
   ],
   "source": [
    "mary_pivot.columns"
   ]
  },
  {
   "cell_type": "markdown",
   "metadata": {},
   "source": [
    "##### 想要绘图时呈现出分组的效果，column也必须变为index"
   ]
  },
  {
   "cell_type": "code",
   "execution_count": 316,
   "metadata": {},
   "outputs": [
    {
     "data": {
      "text/plain": [
       "RcParams({u'_internal.classic_mode': True,\n",
       "          u'agg.path.chunksize': 0,\n",
       "          u'animation.avconv_args': [],\n",
       "          u'animation.avconv_path': u'avconv',\n",
       "          u'animation.bitrate': -1,\n",
       "          u'animation.codec': u'mpeg4',\n",
       "          u'animation.convert_args': [],\n",
       "          u'animation.convert_path': u'convert',\n",
       "          u'animation.embed_limit': 20.0,\n",
       "          u'animation.ffmpeg_args': [],\n",
       "          u'animation.ffmpeg_path': u'ffmpeg',\n",
       "          u'animation.frame_format': u'png',\n",
       "          u'animation.html': u'none',\n",
       "          u'animation.html_args': [],\n",
       "          u'animation.mencoder_args': [],\n",
       "          u'animation.mencoder_path': u'mencoder',\n",
       "          u'animation.writer': u'ffmpeg',\n",
       "          u'axes.autolimit_mode': u'round_numbers',\n",
       "          u'axes.axisbelow': True,\n",
       "          u'axes.edgecolor': u'white',\n",
       "          u'axes.facecolor': u'#E5E5E5',\n",
       "          u'axes.formatter.limits': [-7, 7],\n",
       "          u'axes.formatter.min_exponent': 0,\n",
       "          u'axes.formatter.offset_threshold': 2,\n",
       "          u'axes.formatter.use_locale': False,\n",
       "          u'axes.formatter.use_mathtext': False,\n",
       "          u'axes.formatter.useoffset': True,\n",
       "          u'axes.grid': True,\n",
       "          u'axes.grid.axis': u'both',\n",
       "          u'axes.grid.which': u'major',\n",
       "          u'axes.hold': None,\n",
       "          u'axes.labelcolor': u'#555555',\n",
       "          u'axes.labelpad': 5.0,\n",
       "          u'axes.labelsize': u'large',\n",
       "          u'axes.labelweight': u'normal',\n",
       "          u'axes.linewidth': 1.0,\n",
       "          u'axes.prop_cycle': cycler(u'color', [u'#E24A33', u'#348ABD', u'#988ED5', u'#777777', u'#FBC15E', u'#8EBA42', u'#FFB5B8']),\n",
       "          u'axes.spines.bottom': True,\n",
       "          u'axes.spines.left': True,\n",
       "          u'axes.spines.right': True,\n",
       "          u'axes.spines.top': True,\n",
       "          u'axes.titlepad': 5.0,\n",
       "          u'axes.titlesize': u'x-large',\n",
       "          u'axes.titleweight': u'normal',\n",
       "          u'axes.unicode_minus': True,\n",
       "          u'axes.xmargin': 0.0,\n",
       "          u'axes.ymargin': 0.0,\n",
       "          u'axes3d.grid': True,\n",
       "          u'backend': 'module://ipykernel.pylab.backend_inline',\n",
       "          u'backend.qt4': u'PyQt4',\n",
       "          u'backend.qt5': u'PyQt5',\n",
       "          u'backend_fallback': True,\n",
       "          u'boxplot.bootstrap': None,\n",
       "          u'boxplot.boxprops.color': u'b',\n",
       "          u'boxplot.boxprops.linestyle': u'-',\n",
       "          u'boxplot.boxprops.linewidth': 1.0,\n",
       "          u'boxplot.capprops.color': u'k',\n",
       "          u'boxplot.capprops.linestyle': u'-',\n",
       "          u'boxplot.capprops.linewidth': 1.0,\n",
       "          u'boxplot.flierprops.color': u'b',\n",
       "          u'boxplot.flierprops.linestyle': u'none',\n",
       "          u'boxplot.flierprops.linewidth': 1.0,\n",
       "          u'boxplot.flierprops.marker': u'+',\n",
       "          u'boxplot.flierprops.markeredgecolor': u'k',\n",
       "          u'boxplot.flierprops.markerfacecolor': u'auto',\n",
       "          u'boxplot.flierprops.markersize': 6.0,\n",
       "          u'boxplot.meanline': False,\n",
       "          u'boxplot.meanprops.color': u'r',\n",
       "          u'boxplot.meanprops.linestyle': u'-',\n",
       "          u'boxplot.meanprops.linewidth': 1.0,\n",
       "          u'boxplot.meanprops.marker': u's',\n",
       "          u'boxplot.meanprops.markeredgecolor': u'k',\n",
       "          u'boxplot.meanprops.markerfacecolor': u'r',\n",
       "          u'boxplot.meanprops.markersize': 6.0,\n",
       "          u'boxplot.medianprops.color': u'r',\n",
       "          u'boxplot.medianprops.linestyle': u'-',\n",
       "          u'boxplot.medianprops.linewidth': 1.0,\n",
       "          u'boxplot.notch': False,\n",
       "          u'boxplot.patchartist': False,\n",
       "          u'boxplot.showbox': True,\n",
       "          u'boxplot.showcaps': True,\n",
       "          u'boxplot.showfliers': True,\n",
       "          u'boxplot.showmeans': False,\n",
       "          u'boxplot.vertical': True,\n",
       "          u'boxplot.whiskerprops.color': u'b',\n",
       "          u'boxplot.whiskerprops.linestyle': u'--',\n",
       "          u'boxplot.whiskerprops.linewidth': 1.0,\n",
       "          u'boxplot.whiskers': 1.5,\n",
       "          u'contour.corner_mask': True,\n",
       "          u'contour.negative_linestyle': u'dashed',\n",
       "          u'datapath': u'/Users/Shawn_Ma/anaconda2/lib/python2.7/site-packages/matplotlib/mpl-data',\n",
       "          u'date.autoformatter.day': u'%b %d %Y',\n",
       "          u'date.autoformatter.hour': u'%H:%M:%S',\n",
       "          u'date.autoformatter.microsecond': u'%H:%M:%S.%f',\n",
       "          u'date.autoformatter.minute': u'%H:%M:%S.%f',\n",
       "          u'date.autoformatter.month': u'%b %Y',\n",
       "          u'date.autoformatter.second': u'%H:%M:%S.%f',\n",
       "          u'date.autoformatter.year': u'%Y',\n",
       "          u'docstring.hardcopy': False,\n",
       "          u'errorbar.capsize': 3.0,\n",
       "          u'examples.directory': u'',\n",
       "          u'figure.autolayout': False,\n",
       "          u'figure.dpi': 80.0,\n",
       "          u'figure.edgecolor': u'0.50',\n",
       "          u'figure.facecolor': u'white',\n",
       "          u'figure.figsize': [8.0, 6.0],\n",
       "          u'figure.frameon': True,\n",
       "          u'figure.max_open_warning': 20,\n",
       "          u'figure.subplot.bottom': 0.1,\n",
       "          u'figure.subplot.hspace': 0.2,\n",
       "          u'figure.subplot.left': 0.125,\n",
       "          u'figure.subplot.right': 0.9,\n",
       "          u'figure.subplot.top': 0.9,\n",
       "          u'figure.subplot.wspace': 0.2,\n",
       "          u'figure.titlesize': u'medium',\n",
       "          u'figure.titleweight': u'normal',\n",
       "          u'font.cursive': [u'Apple Chancery',\n",
       "                            u'Textile',\n",
       "                            u'Zapf Chancery',\n",
       "                            u'Sand',\n",
       "                            u'Script MT',\n",
       "                            u'Felipa',\n",
       "                            u'cursive'],\n",
       "          u'font.family': [u'sans-serif'],\n",
       "          u'font.fantasy': [u'Comic Sans MS',\n",
       "                            u'Chicago',\n",
       "                            u'Charcoal',\n",
       "                            u'ImpactWestern',\n",
       "                            u'Humor Sans',\n",
       "                            u'fantasy'],\n",
       "          u'font.monospace': [u'DejaVu Sans Mono',\n",
       "                              u'Andale Mono',\n",
       "                              u'Nimbus Mono L',\n",
       "                              u'Courier New',\n",
       "                              u'Courier',\n",
       "                              u'Fixed',\n",
       "                              u'Terminal',\n",
       "                              u'monospace'],\n",
       "          u'font.sans-serif': [u'DejaVu Sans',\n",
       "                               u'Lucida Grande',\n",
       "                               u'Verdana',\n",
       "                               u'Geneva',\n",
       "                               u'Lucid',\n",
       "                               u'Arial',\n",
       "                               u'Helvetica',\n",
       "                               u'Avant Garde',\n",
       "                               u'sans-serif'],\n",
       "          u'font.serif': [u'DejaVu Serif',\n",
       "                          u'New Century Schoolbook',\n",
       "                          u'Century Schoolbook L',\n",
       "                          u'Utopia',\n",
       "                          u'ITC Bookman',\n",
       "                          u'Bookman',\n",
       "                          u'Nimbus Roman No9 L',\n",
       "                          u'Times New Roman',\n",
       "                          u'Times',\n",
       "                          u'Palatino',\n",
       "                          u'Charter',\n",
       "                          u'serif'],\n",
       "          u'font.size': 10.0,\n",
       "          u'font.stretch': u'normal',\n",
       "          u'font.style': u'normal',\n",
       "          u'font.variant': u'normal',\n",
       "          u'font.weight': u'normal',\n",
       "          u'grid.alpha': 1.0,\n",
       "          u'grid.color': u'white',\n",
       "          u'grid.linestyle': u'-',\n",
       "          u'grid.linewidth': 0.5,\n",
       "          u'hatch.color': u'k',\n",
       "          u'hatch.linewidth': 1.0,\n",
       "          u'hist.bins': 10,\n",
       "          u'image.aspect': u'equal',\n",
       "          u'image.cmap': u'jet',\n",
       "          u'image.composite_image': True,\n",
       "          u'image.interpolation': u'bilinear',\n",
       "          u'image.lut': 256,\n",
       "          u'image.origin': u'upper',\n",
       "          u'image.resample': False,\n",
       "          u'interactive': True,\n",
       "          u'keymap.all_axes': [u'a'],\n",
       "          u'keymap.back': [u'left', u'c', u'backspace'],\n",
       "          u'keymap.forward': [u'right', u'v'],\n",
       "          u'keymap.fullscreen': [u'f', u'ctrl+f'],\n",
       "          u'keymap.grid': [u'g'],\n",
       "          u'keymap.grid_minor': [u'G'],\n",
       "          u'keymap.home': [u'h', u'r', u'home'],\n",
       "          u'keymap.pan': [u'p'],\n",
       "          u'keymap.quit': [u'ctrl+w', u'cmd+w'],\n",
       "          u'keymap.quit_all': [u'W', u'cmd+W', u'Q'],\n",
       "          u'keymap.save': [u's', u'ctrl+s'],\n",
       "          u'keymap.xscale': [u'k', u'L'],\n",
       "          u'keymap.yscale': [u'l'],\n",
       "          u'keymap.zoom': [u'o'],\n",
       "          u'legend.borderaxespad': 0.5,\n",
       "          u'legend.borderpad': 0.4,\n",
       "          u'legend.columnspacing': 2.0,\n",
       "          u'legend.edgecolor': u'inherit',\n",
       "          u'legend.facecolor': u'inherit',\n",
       "          u'legend.fancybox': False,\n",
       "          u'legend.fontsize': u'large',\n",
       "          u'legend.framealpha': None,\n",
       "          u'legend.frameon': True,\n",
       "          u'legend.handleheight': 0.7,\n",
       "          u'legend.handlelength': 2.0,\n",
       "          u'legend.handletextpad': 0.8,\n",
       "          u'legend.labelspacing': 0.5,\n",
       "          u'legend.loc': u'upper right',\n",
       "          u'legend.markerscale': 1.0,\n",
       "          u'legend.numpoints': 2,\n",
       "          u'legend.scatterpoints': 3,\n",
       "          u'legend.shadow': False,\n",
       "          u'lines.antialiased': True,\n",
       "          u'lines.color': u'b',\n",
       "          u'lines.dash_capstyle': u'butt',\n",
       "          u'lines.dash_joinstyle': u'round',\n",
       "          u'lines.dashdot_pattern': [3.0, 5.0, 1.0, 5.0],\n",
       "          u'lines.dashed_pattern': [6.0, 6.0],\n",
       "          u'lines.dotted_pattern': [1.0, 3.0],\n",
       "          u'lines.linestyle': u'-',\n",
       "          u'lines.linewidth': 1.0,\n",
       "          u'lines.marker': u'None',\n",
       "          u'lines.markeredgewidth': 0.5,\n",
       "          u'lines.markersize': 6.0,\n",
       "          u'lines.scale_dashes': False,\n",
       "          u'lines.solid_capstyle': u'projecting',\n",
       "          u'lines.solid_joinstyle': u'round',\n",
       "          u'markers.fillstyle': u'full',\n",
       "          u'mathtext.bf': u'serif:bold',\n",
       "          u'mathtext.cal': u'cursive',\n",
       "          u'mathtext.default': u'it',\n",
       "          u'mathtext.fallback_to_cm': True,\n",
       "          u'mathtext.fontset': u'cm',\n",
       "          u'mathtext.it': u'serif:italic',\n",
       "          u'mathtext.rm': u'serif',\n",
       "          u'mathtext.sf': u'sans\\\\-serif',\n",
       "          u'mathtext.tt': u'monospace',\n",
       "          u'nbagg.transparent': True,\n",
       "          u'patch.antialiased': True,\n",
       "          u'patch.edgecolor': u'#EEEEEE',\n",
       "          u'patch.facecolor': u'#348ABD',\n",
       "          u'patch.force_edgecolor': True,\n",
       "          u'patch.linewidth': 0.5,\n",
       "          u'path.effects': [],\n",
       "          u'path.simplify': True,\n",
       "          u'path.simplify_threshold': 0.1111111111111111,\n",
       "          u'path.sketch': None,\n",
       "          u'path.snap': True,\n",
       "          u'pdf.compression': 6,\n",
       "          u'pdf.fonttype': 3,\n",
       "          u'pdf.inheritcolor': False,\n",
       "          u'pdf.use14corefonts': False,\n",
       "          u'pgf.debug': False,\n",
       "          u'pgf.preamble': [],\n",
       "          u'pgf.rcfonts': True,\n",
       "          u'pgf.texsystem': u'xelatex',\n",
       "          u'plugins.directory': u'.matplotlib_plugins',\n",
       "          u'polaraxes.grid': True,\n",
       "          u'ps.distiller.res': 6000,\n",
       "          u'ps.fonttype': 3,\n",
       "          u'ps.papersize': u'letter',\n",
       "          u'ps.useafm': False,\n",
       "          u'ps.usedistiller': False,\n",
       "          u'savefig.bbox': None,\n",
       "          u'savefig.directory': u'~',\n",
       "          u'savefig.dpi': 100.0,\n",
       "          u'savefig.edgecolor': u'w',\n",
       "          u'savefig.facecolor': u'w',\n",
       "          u'savefig.format': u'png',\n",
       "          u'savefig.frameon': True,\n",
       "          u'savefig.jpeg_quality': 95,\n",
       "          u'savefig.orientation': u'portrait',\n",
       "          u'savefig.pad_inches': 0.1,\n",
       "          u'savefig.transparent': False,\n",
       "          u'scatter.marker': u'o',\n",
       "          u'svg.fonttype': u'path',\n",
       "          u'svg.hashsalt': None,\n",
       "          u'svg.image_inline': True,\n",
       "          u'text.antialiased': True,\n",
       "          u'text.color': u'k',\n",
       "          u'text.hinting': u'auto',\n",
       "          u'text.hinting_factor': 8,\n",
       "          u'text.latex.preamble': [],\n",
       "          u'text.latex.preview': False,\n",
       "          u'text.latex.unicode': False,\n",
       "          u'text.usetex': False,\n",
       "          u'timezone': u'UTC',\n",
       "          u'tk.window_focus': False,\n",
       "          u'toolbar': u'toolbar2',\n",
       "          u'verbose.fileo': u'sys.stdout',\n",
       "          u'verbose.level': u'silent',\n",
       "          u'webagg.open_in_browser': True,\n",
       "          u'webagg.port': 8988,\n",
       "          u'webagg.port_retries': 50,\n",
       "          u'xtick.alignment': u'center',\n",
       "          u'xtick.bottom': True,\n",
       "          u'xtick.color': u'#555555',\n",
       "          u'xtick.direction': u'out',\n",
       "          u'xtick.labelsize': u'medium',\n",
       "          u'xtick.major.bottom': True,\n",
       "          u'xtick.major.pad': 4.0,\n",
       "          u'xtick.major.size': 4.0,\n",
       "          u'xtick.major.top': True,\n",
       "          u'xtick.major.width': 0.5,\n",
       "          u'xtick.minor.bottom': True,\n",
       "          u'xtick.minor.pad': 4.0,\n",
       "          u'xtick.minor.size': 2.0,\n",
       "          u'xtick.minor.top': True,\n",
       "          u'xtick.minor.visible': False,\n",
       "          u'xtick.minor.width': 0.5,\n",
       "          u'xtick.top': True,\n",
       "          u'ytick.alignment': u'center',\n",
       "          u'ytick.color': u'#555555',\n",
       "          u'ytick.direction': u'out',\n",
       "          u'ytick.labelsize': u'medium',\n",
       "          u'ytick.left': True,\n",
       "          u'ytick.major.left': True,\n",
       "          u'ytick.major.pad': 4.0,\n",
       "          u'ytick.major.right': True,\n",
       "          u'ytick.major.size': 4.0,\n",
       "          u'ytick.major.width': 0.5,\n",
       "          u'ytick.minor.left': True,\n",
       "          u'ytick.minor.pad': 4.0,\n",
       "          u'ytick.minor.right': True,\n",
       "          u'ytick.minor.size': 2.0,\n",
       "          u'ytick.minor.visible': False,\n",
       "          u'ytick.minor.width': 0.5,\n",
       "          u'ytick.right': True})"
      ]
     },
     "execution_count": 316,
     "metadata": {},
     "output_type": "execute_result"
    }
   ],
   "source": [
    "plt.rcParams"
   ]
  },
  {
   "cell_type": "code",
   "execution_count": 337,
   "metadata": {
    "collapsed": true
   },
   "outputs": [],
   "source": [
    "plt.rc('figure',figsize=(20,10))  # set figure size\n",
    "plt.rc('axes',labelsize=18,titlesize=22) # set label size, titlesize\n",
    "plt.rcParams['xtick.labelsize']=14  # set x axis label size\n",
    "plt.rcParams['ytick.labelsize']=14\n",
    "plt.rcParams['legend.fontsize']=15\n",
    "# pd.set_option('display.mpl_style',None)"
   ]
  },
  {
   "cell_type": "code",
   "execution_count": 269,
   "metadata": {
    "collapsed": true
   },
   "outputs": [],
   "source": [
    "import matplotlib.style as stl"
   ]
  },
  {
   "cell_type": "code",
   "execution_count": 307,
   "metadata": {
    "collapsed": true,
    "scrolled": true
   },
   "outputs": [],
   "source": [
    "stl.use('ggplot') \n",
    "# 使用ggplot风格的图"
   ]
  },
  {
   "cell_type": "code",
   "execution_count": null,
   "metadata": {
    "collapsed": true
   },
   "outputs": [],
   "source": [
    "np.random.seed(19680801)\n",
    "data = np.random.randn(2, 100)\n",
    "fig, axs = plt.subplots(2, 2, figsize=(5, 5))\n",
    "axs[0, 0].hist(data[0])\n",
    "axs[1, 0].scatter(data[0], data[1])\n",
    "axs[0, 1].plot(data[0], data[1])\n",
    "axs[1, 1].hist2d(data[0], data[1])\n",
    "plt.show()"
   ]
  },
  {
   "cell_type": "code",
   "execution_count": 322,
   "metadata": {},
   "outputs": [
    {
     "data": {
      "text/plain": [
       "Text(0.5,0,u'x')"
      ]
     },
     "execution_count": 322,
     "metadata": {},
     "output_type": "execute_result"
    },
    {
     "data": {
      "image/png": "[encoded data removed]",
      "text/plain": [
       "<matplotlib.figure.Figure at 0x1292323d0>"
      ]
     },
     "metadata": {},
     "output_type": "display_data"
    }
   ],
   "source": [
    "# matplotlib小练习\n",
    "fg,axes = plt.subplots(2,2)\n",
    "x=np.linspace(0,50,50) # np.ndarray\n",
    "y1=2*x+1\n",
    "y2=2*x**2+3*x+1\n",
    "axes[0,0].plot(x,y1)\n",
    "axes[0,1].plot(x,y2,color='g',linestyle='--')\n",
    "axes[0,1].set_ylim(0,1000)\n",
    "axes[0,1].set_xlim(0,20)\n",
    "axes[0,0].set_xlabel('x')"
   ]
  },
  {
   "cell_type": "code",
   "execution_count": 341,
   "metadata": {
    "scrolled": false
   },
   "outputs": [
    {
     "data": {
      "text/plain": [
       "Text(0.5,1,u'People who named Mary')"
      ]
     },
     "execution_count": 341,
     "metadata": {},
     "output_type": "execute_result"
    },
    {
     "data": {
      "image/png": "[encoded data removed]",
      "text/plain": [
       "<matplotlib.figure.Figure at 0x1387bc550>"
      ]
     },
     "metadata": {},
     "output_type": "display_data"
    }
   ],
   "source": [
    "mary_ax = mary_pivot.plot(legend=True,\\\n",
    "               figsize=(20,10),secondary_y=['M'],\\\n",
    "                xticks=range(1880,2011,10),grid=1)\n",
    "mary_ax.set_ylabel('proportion',fontsize=18)\n",
    "mary_ax.set_xlabel('Year',fontsize=18)\n",
    "mary_ax.set_title('People who named Mary')"
   ]
  },
  {
   "cell_type": "code",
   "execution_count": 129,
   "metadata": {
    "collapsed": true
   },
   "outputs": [],
   "source": [
    "names_gp = names.groupby(['year','sex'])"
   ]
  },
  {
   "cell_type": "code",
   "execution_count": 132,
   "metadata": {
    "collapsed": true
   },
   "outputs": [],
   "source": [
    "def get_top1000(group):\n",
    "    return group.sort_values(by='births',ascending=False)[:1000]"
   ]
  },
  {
   "cell_type": "code",
   "execution_count": 133,
   "metadata": {
    "collapsed": true
   },
   "outputs": [],
   "source": [
    "top1000 = names_gp.apply(get_top1000)"
   ]
  },
  {
   "cell_type": "code",
   "execution_count": 139,
   "metadata": {},
   "outputs": [
    {
     "data": {
      "text/plain": [
       "(261877, 1690784)"
      ]
     },
     "execution_count": 139,
     "metadata": {},
     "output_type": "execute_result"
    }
   ],
   "source": [
    "top1000.shape[0], names.shape[0]"
   ]
  },
  {
   "cell_type": "code",
   "execution_count": 178,
   "metadata": {
    "collapsed": true
   },
   "outputs": [],
   "source": [
    "top1000.reset_index(drop=1,inplace=True)"
   ]
  },
  {
   "cell_type": "code",
   "execution_count": 141,
   "metadata": {
    "collapsed": true
   },
   "outputs": [],
   "source": [
    "boys = top1000.loc[top1000.sex=='M']"
   ]
  },
  {
   "cell_type": "code",
   "execution_count": 142,
   "metadata": {
    "collapsed": true
   },
   "outputs": [],
   "source": [
    "girls = top1000.loc[top1000.sex=='F']"
   ]
  },
  {
   "cell_type": "code",
   "execution_count": 145,
   "metadata": {
    "scrolled": false
   },
   "outputs": [
    {
     "name": "stderr",
     "output_type": "stream",
     "text": [
      "/Users/Shawn_Ma/anaconda2/lib/python2.7/site-packages/pandas/core/reshape/pivot.py:135: FutureWarning: 'year' is both a column name and an index level.\n",
      "Defaulting to column but this will raise an ambiguity error in a future version\n",
      "  grouped = data.groupby(keys)\n"
     ]
    }
   ],
   "source": [
    "total_births1000 = pd.pivot_table(data=top1000, index='year',columns='name',\\\n",
    "                                  values='births',aggfunc=sum)"
   ]
  },
  {
   "cell_type": "code",
   "execution_count": 147,
   "metadata": {},
   "outputs": [
    {
     "data": {
      "text/plain": [
       "Index([u'Aaden', u'Aaliyah', u'Aarav', u'Aaron', u'Aarush', u'Ab', u'Abagail',\n",
       "       u'Abb', u'Abbey', u'Abbie',\n",
       "       ...\n",
       "       u'Zoa', u'Zoe', u'Zoey', u'Zoie', u'Zola', u'Zollie', u'Zona', u'Zora',\n",
       "       u'Zula', u'Zuri'],\n",
       "      dtype='object', name=u'name', length=6868)"
      ]
     },
     "execution_count": 147,
     "metadata": {},
     "output_type": "execute_result"
    }
   ],
   "source": [
    "total_births1000.columns"
   ]
  },
  {
   "cell_type": "code",
   "execution_count": 148,
   "metadata": {
    "collapsed": true
   },
   "outputs": [],
   "source": [
    "subset=total_births1000[['John','Harry','Mary','Marilyn']]"
   ]
  },
  {
   "cell_type": "code",
   "execution_count": 150,
   "metadata": {},
   "outputs": [
    {
     "data": {
      "text/plain": [
       "array([<matplotlib.axes._subplots.AxesSubplot object at 0x12ef20110>,\n",
       "       <matplotlib.axes._subplots.AxesSubplot object at 0x1186820d0>,\n",
       "       <matplotlib.axes._subplots.AxesSubplot object at 0x1186c0990>,\n",
       "       <matplotlib.axes._subplots.AxesSubplot object at 0x1186e0fd0>], dtype=object)"
      ]
     },
     "execution_count": 150,
     "metadata": {},
     "output_type": "execute_result"
    },
    {
     "data": {
      "image/png": "[encoded data removed]",
      "text/plain": [
       "<matplotlib.figure.Figure at 0x11dd8df10>"
      ]
     },
     "metadata": {},
     "output_type": "display_data"
    }
   ],
   "source": [
    "subset.plot(subplots=True,title='Number of births per year')"
   ]
  },
  {
   "cell_type": "markdown",
   "metadata": {},
   "source": [
    "#### 假设：父母越来越不愿意给小孩起常见的名字，名字越来越多样化\n",
    "#### 验证方法1：计算top1000名字的小孩所占的比例"
   ]
  },
  {
   "cell_type": "code",
   "execution_count": 266,
   "metadata": {
    "collapsed": true
   },
   "outputs": [],
   "source": [
    "table = top1000.pivot_table(values='prop',index='year',columns='sex',aggfunc=sum)"
   ]
  },
  {
   "cell_type": "code",
   "execution_count": 267,
   "metadata": {
    "scrolled": false
   },
   "outputs": [
    {
     "data": {
      "text/plain": [
       "<matplotlib.axes._subplots.AxesSubplot at 0x13fc90550>"
      ]
     },
     "execution_count": 267,
     "metadata": {},
     "output_type": "execute_result"
    },
    {
     "data": {
      "image/png": "[encoded data removed]",
      "text/plain": [
       "<matplotlib.figure.Figure at 0x127259dd0>"
      ]
     },
     "metadata": {},
     "output_type": "display_data"
    }
   ],
   "source": [
    "table.plot(title='Proportion of Top1000 regular names')"
   ]
  },
  {
   "cell_type": "markdown",
   "metadata": {},
   "source": [
    "#### 验证方法2: 计算占出生总人数前50% 的姓名的数量"
   ]
  },
  {
   "cell_type": "code",
   "execution_count": 154,
   "metadata": {
    "collapsed": true
   },
   "outputs": [],
   "source": [
    "df=boys[boys.year==2010]"
   ]
  },
  {
   "cell_type": "code",
   "execution_count": 167,
   "metadata": {
    "collapsed": true
   },
   "outputs": [],
   "source": [
    "prop_cumsum = df.prop.cumsum().reset_index(drop=True)"
   ]
  },
  {
   "cell_type": "code",
   "execution_count": 168,
   "metadata": {
    "scrolled": true
   },
   "outputs": [
    {
     "data": {
      "text/plain": [
       "0     0.011523\n",
       "1     0.020934\n",
       "2     0.029959\n",
       "3     0.038930\n",
       "4     0.047817\n",
       "5     0.056579\n",
       "6     0.065155\n",
       "7     0.073414\n",
       "8     0.081528\n",
       "9     0.089621\n",
       "10    0.097648\n",
       "11    0.105406\n",
       "12    0.112852\n",
       "13    0.120276\n",
       "14    0.127672\n",
       "15    0.135023\n",
       "16    0.142368\n",
       "17    0.149603\n",
       "18    0.156827\n",
       "19    0.164021\n",
       "20    0.170722\n",
       "21    0.177191\n",
       "22    0.183452\n",
       "23    0.189655\n",
       "24    0.195815\n",
       "25    0.201832\n",
       "26    0.207769\n",
       "27    0.213578\n",
       "28    0.219354\n",
       "29    0.225070\n",
       "30    0.230577\n",
       "31    0.236056\n",
       "32    0.241513\n",
       "33    0.246968\n",
       "34    0.252391\n",
       "35    0.257477\n",
       "36    0.262508\n",
       "37    0.267538\n",
       "38    0.272413\n",
       "39    0.277178\n",
       "40    0.281796\n",
       "41    0.286387\n",
       "42    0.290850\n",
       "43    0.295305\n",
       "44    0.299753\n",
       "45    0.304049\n",
       "46    0.308335\n",
       "47    0.312602\n",
       "48    0.316811\n",
       "49    0.320916\n",
       "Name: prop, dtype: float64"
      ]
     },
     "execution_count": 168,
     "metadata": {},
     "output_type": "execute_result"
    }
   ],
   "source": [
    "prop_cumsum.index()"
   ]
  },
  {
   "cell_type": "code",
   "execution_count": 180,
   "metadata": {},
   "outputs": [
    {
     "data": {
      "text/plain": [
       "116"
      ]
     },
     "execution_count": 180,
     "metadata": {},
     "output_type": "execute_result"
    }
   ],
   "source": [
    "int(prop_cumsum.searchsorted(0.5))"
   ]
  },
  {
   "cell_type": "code",
   "execution_count": 170,
   "metadata": {},
   "outputs": [
    {
     "data": {
      "text/plain": [
       "115    0.498861\n",
       "116    0.500652\n",
       "Name: prop, dtype: float64"
      ]
     },
     "execution_count": 170,
     "metadata": {},
     "output_type": "execute_result"
    }
   ],
   "source": [
    "prop_cumsum[115:117]"
   ]
  },
  {
   "cell_type": "code",
   "execution_count": 181,
   "metadata": {
    "collapsed": true
   },
   "outputs": [],
   "source": [
    "def get_quantile_count(group,q=0.5):\n",
    "    prop_cumsum = group.sort_values(by='prop',ascending=0).prop.cumsum()\n",
    "    return int(prop_cumsum.searchsorted(q))+1"
   ]
  },
  {
   "cell_type": "code",
   "execution_count": 183,
   "metadata": {
    "collapsed": true
   },
   "outputs": [],
   "source": [
    "diversity = top1000.groupby(['year','sex']).apply(get_quantile_count)"
   ]
  },
  {
   "cell_type": "code",
   "execution_count": 189,
   "metadata": {
    "collapsed": true
   },
   "outputs": [],
   "source": [
    "diversity = diversity.unstack('sex')"
   ]
  },
  {
   "cell_type": "code",
   "execution_count": 191,
   "metadata": {},
   "outputs": [
    {
     "data": {
      "text/plain": [
       "Index([u'F', u'M'], dtype='object', name=u'sex')"
      ]
     },
     "execution_count": 191,
     "metadata": {},
     "output_type": "execute_result"
    }
   ],
   "source": [
    "diversity.columns"
   ]
  },
  {
   "cell_type": "code",
   "execution_count": 194,
   "metadata": {},
   "outputs": [
    {
     "data": {
      "text/plain": [
       "<matplotlib.axes._subplots.AxesSubplot at 0x11b6f3d90>"
      ]
     },
     "execution_count": 194,
     "metadata": {},
     "output_type": "execute_result"
    },
    {
     "data": {
      "image/png": "[encoded data removed]",
      "text/plain": [
       "<matplotlib.figure.Figure at 0x12a391fd0>"
      ]
     },
     "metadata": {},
     "output_type": "display_data"
    }
   ],
   "source": [
    "diversity.plot(figsize=(15,5))"
   ]
  },
  {
   "cell_type": "markdown",
   "metadata": {},
   "source": [
    "#### 名字中最后一个字母的分布的变化情况"
   ]
  },
  {
   "cell_type": "code",
   "execution_count": 195,
   "metadata": {
    "collapsed": true
   },
   "outputs": [],
   "source": [
    "get_last_letter = lambda x: x[-1]"
   ]
  },
  {
   "cell_type": "code",
   "execution_count": 199,
   "metadata": {
    "collapsed": true
   },
   "outputs": [],
   "source": [
    "names['name_last_letter']=names.name.apply(get_last_letter)"
   ]
  },
  {
   "cell_type": "code",
   "execution_count": 202,
   "metadata": {
    "collapsed": true,
    "scrolled": true
   },
   "outputs": [],
   "source": [
    "table = names.pivot_table(values='births',index='name_last_letter',\\\n",
    "                  columns=['sex','year'],aggfunc=sum)"
   ]
  },
  {
   "cell_type": "code",
   "execution_count": 212,
   "metadata": {},
   "outputs": [
    {
     "data": {
      "text/html": [
       "<div>\n",
       "<style>\n",
       "    .dataframe thead tr:only-child th {\n",
       "        text-align: right;\n",
       "    }\n",
       "\n",
       "    .dataframe thead th {\n",
       "        text-align: left;\n",
       "    }\n",
       "\n",
       "    .dataframe tbody tr th {\n",
       "        vertical-align: top;\n",
       "    }\n",
       "</style>\n",
       "<table border=\"1\" class=\"dataframe\">\n",
       "  <thead>\n",
       "    <tr>\n",
       "      <th>sex</th>\n",
       "      <th colspan=\"10\" halign=\"left\">F</th>\n",
       "      <th>...</th>\n",
       "      <th colspan=\"10\" halign=\"left\">M</th>\n",
       "    </tr>\n",
       "    <tr>\n",
       "      <th>year</th>\n",
       "      <th>1880</th>\n",
       "      <th>1881</th>\n",
       "      <th>1882</th>\n",
       "      <th>1883</th>\n",
       "      <th>1884</th>\n",
       "      <th>1885</th>\n",
       "      <th>1886</th>\n",
       "      <th>1887</th>\n",
       "      <th>1888</th>\n",
       "      <th>1889</th>\n",
       "      <th>...</th>\n",
       "      <th>2001</th>\n",
       "      <th>2002</th>\n",
       "      <th>2003</th>\n",
       "      <th>2004</th>\n",
       "      <th>2005</th>\n",
       "      <th>2006</th>\n",
       "      <th>2007</th>\n",
       "      <th>2008</th>\n",
       "      <th>2009</th>\n",
       "      <th>2010</th>\n",
       "    </tr>\n",
       "    <tr>\n",
       "      <th>name_last_letter</th>\n",
       "      <th></th>\n",
       "      <th></th>\n",
       "      <th></th>\n",
       "      <th></th>\n",
       "      <th></th>\n",
       "      <th></th>\n",
       "      <th></th>\n",
       "      <th></th>\n",
       "      <th></th>\n",
       "      <th></th>\n",
       "      <th></th>\n",
       "      <th></th>\n",
       "      <th></th>\n",
       "      <th></th>\n",
       "      <th></th>\n",
       "      <th></th>\n",
       "      <th></th>\n",
       "      <th></th>\n",
       "      <th></th>\n",
       "      <th></th>\n",
       "      <th></th>\n",
       "    </tr>\n",
       "  </thead>\n",
       "  <tbody>\n",
       "    <tr>\n",
       "      <th>a</th>\n",
       "      <td>31446.0</td>\n",
       "      <td>31581.0</td>\n",
       "      <td>36536.0</td>\n",
       "      <td>38330.0</td>\n",
       "      <td>43680.0</td>\n",
       "      <td>45408.0</td>\n",
       "      <td>49100.0</td>\n",
       "      <td>48942.0</td>\n",
       "      <td>59442.0</td>\n",
       "      <td>58631.0</td>\n",
       "      <td>...</td>\n",
       "      <td>39124.0</td>\n",
       "      <td>38815.0</td>\n",
       "      <td>37825.0</td>\n",
       "      <td>38650.0</td>\n",
       "      <td>36838.0</td>\n",
       "      <td>36156.0</td>\n",
       "      <td>34654.0</td>\n",
       "      <td>32901.0</td>\n",
       "      <td>31430.0</td>\n",
       "      <td>28438.0</td>\n",
       "    </tr>\n",
       "    <tr>\n",
       "      <th>b</th>\n",
       "      <td>NaN</td>\n",
       "      <td>NaN</td>\n",
       "      <td>NaN</td>\n",
       "      <td>NaN</td>\n",
       "      <td>NaN</td>\n",
       "      <td>NaN</td>\n",
       "      <td>NaN</td>\n",
       "      <td>NaN</td>\n",
       "      <td>NaN</td>\n",
       "      <td>NaN</td>\n",
       "      <td>...</td>\n",
       "      <td>50950.0</td>\n",
       "      <td>49284.0</td>\n",
       "      <td>48065.0</td>\n",
       "      <td>45914.0</td>\n",
       "      <td>43144.0</td>\n",
       "      <td>42600.0</td>\n",
       "      <td>42123.0</td>\n",
       "      <td>39945.0</td>\n",
       "      <td>38862.0</td>\n",
       "      <td>38859.0</td>\n",
       "    </tr>\n",
       "    <tr>\n",
       "      <th>c</th>\n",
       "      <td>NaN</td>\n",
       "      <td>NaN</td>\n",
       "      <td>5.0</td>\n",
       "      <td>5.0</td>\n",
       "      <td>NaN</td>\n",
       "      <td>NaN</td>\n",
       "      <td>NaN</td>\n",
       "      <td>NaN</td>\n",
       "      <td>NaN</td>\n",
       "      <td>NaN</td>\n",
       "      <td>...</td>\n",
       "      <td>27113.0</td>\n",
       "      <td>27238.0</td>\n",
       "      <td>27697.0</td>\n",
       "      <td>26778.0</td>\n",
       "      <td>26078.0</td>\n",
       "      <td>26635.0</td>\n",
       "      <td>26864.0</td>\n",
       "      <td>25318.0</td>\n",
       "      <td>24048.0</td>\n",
       "      <td>23125.0</td>\n",
       "    </tr>\n",
       "    <tr>\n",
       "      <th>d</th>\n",
       "      <td>609.0</td>\n",
       "      <td>607.0</td>\n",
       "      <td>734.0</td>\n",
       "      <td>810.0</td>\n",
       "      <td>916.0</td>\n",
       "      <td>862.0</td>\n",
       "      <td>1007.0</td>\n",
       "      <td>1027.0</td>\n",
       "      <td>1298.0</td>\n",
       "      <td>1374.0</td>\n",
       "      <td>...</td>\n",
       "      <td>60838.0</td>\n",
       "      <td>55829.0</td>\n",
       "      <td>53391.0</td>\n",
       "      <td>51754.0</td>\n",
       "      <td>50670.0</td>\n",
       "      <td>51410.0</td>\n",
       "      <td>50595.0</td>\n",
       "      <td>47910.0</td>\n",
       "      <td>46172.0</td>\n",
       "      <td>44398.0</td>\n",
       "    </tr>\n",
       "    <tr>\n",
       "      <th>e</th>\n",
       "      <td>33378.0</td>\n",
       "      <td>34080.0</td>\n",
       "      <td>40399.0</td>\n",
       "      <td>41914.0</td>\n",
       "      <td>48089.0</td>\n",
       "      <td>49616.0</td>\n",
       "      <td>53884.0</td>\n",
       "      <td>54353.0</td>\n",
       "      <td>66750.0</td>\n",
       "      <td>66663.0</td>\n",
       "      <td>...</td>\n",
       "      <td>145395.0</td>\n",
       "      <td>144651.0</td>\n",
       "      <td>144769.0</td>\n",
       "      <td>142098.0</td>\n",
       "      <td>141123.0</td>\n",
       "      <td>142999.0</td>\n",
       "      <td>143698.0</td>\n",
       "      <td>140966.0</td>\n",
       "      <td>135496.0</td>\n",
       "      <td>129012.0</td>\n",
       "    </tr>\n",
       "    <tr>\n",
       "      <th>f</th>\n",
       "      <td>NaN</td>\n",
       "      <td>NaN</td>\n",
       "      <td>NaN</td>\n",
       "      <td>NaN</td>\n",
       "      <td>NaN</td>\n",
       "      <td>NaN</td>\n",
       "      <td>NaN</td>\n",
       "      <td>NaN</td>\n",
       "      <td>NaN</td>\n",
       "      <td>NaN</td>\n",
       "      <td>...</td>\n",
       "      <td>1758.0</td>\n",
       "      <td>1817.0</td>\n",
       "      <td>1819.0</td>\n",
       "      <td>1904.0</td>\n",
       "      <td>1985.0</td>\n",
       "      <td>1968.0</td>\n",
       "      <td>2090.0</td>\n",
       "      <td>2195.0</td>\n",
       "      <td>2212.0</td>\n",
       "      <td>2255.0</td>\n",
       "    </tr>\n",
       "    <tr>\n",
       "      <th>g</th>\n",
       "      <td>7.0</td>\n",
       "      <td>5.0</td>\n",
       "      <td>12.0</td>\n",
       "      <td>8.0</td>\n",
       "      <td>24.0</td>\n",
       "      <td>11.0</td>\n",
       "      <td>18.0</td>\n",
       "      <td>25.0</td>\n",
       "      <td>44.0</td>\n",
       "      <td>28.0</td>\n",
       "      <td>...</td>\n",
       "      <td>2151.0</td>\n",
       "      <td>2084.0</td>\n",
       "      <td>2009.0</td>\n",
       "      <td>1837.0</td>\n",
       "      <td>1882.0</td>\n",
       "      <td>1929.0</td>\n",
       "      <td>2040.0</td>\n",
       "      <td>2059.0</td>\n",
       "      <td>2396.0</td>\n",
       "      <td>2666.0</td>\n",
       "    </tr>\n",
       "    <tr>\n",
       "      <th>h</th>\n",
       "      <td>4863.0</td>\n",
       "      <td>4784.0</td>\n",
       "      <td>5567.0</td>\n",
       "      <td>5701.0</td>\n",
       "      <td>6602.0</td>\n",
       "      <td>6624.0</td>\n",
       "      <td>7146.0</td>\n",
       "      <td>7141.0</td>\n",
       "      <td>8630.0</td>\n",
       "      <td>8826.0</td>\n",
       "      <td>...</td>\n",
       "      <td>85959.0</td>\n",
       "      <td>88085.0</td>\n",
       "      <td>88226.0</td>\n",
       "      <td>89620.0</td>\n",
       "      <td>92497.0</td>\n",
       "      <td>98477.0</td>\n",
       "      <td>99414.0</td>\n",
       "      <td>100250.0</td>\n",
       "      <td>99979.0</td>\n",
       "      <td>98090.0</td>\n",
       "    </tr>\n",
       "    <tr>\n",
       "      <th>i</th>\n",
       "      <td>61.0</td>\n",
       "      <td>78.0</td>\n",
       "      <td>81.0</td>\n",
       "      <td>76.0</td>\n",
       "      <td>84.0</td>\n",
       "      <td>92.0</td>\n",
       "      <td>85.0</td>\n",
       "      <td>105.0</td>\n",
       "      <td>141.0</td>\n",
       "      <td>134.0</td>\n",
       "      <td>...</td>\n",
       "      <td>20980.0</td>\n",
       "      <td>23610.0</td>\n",
       "      <td>26011.0</td>\n",
       "      <td>28500.0</td>\n",
       "      <td>31317.0</td>\n",
       "      <td>33558.0</td>\n",
       "      <td>35231.0</td>\n",
       "      <td>38151.0</td>\n",
       "      <td>40912.0</td>\n",
       "      <td>42956.0</td>\n",
       "    </tr>\n",
       "    <tr>\n",
       "      <th>j</th>\n",
       "      <td>NaN</td>\n",
       "      <td>NaN</td>\n",
       "      <td>NaN</td>\n",
       "      <td>NaN</td>\n",
       "      <td>NaN</td>\n",
       "      <td>NaN</td>\n",
       "      <td>NaN</td>\n",
       "      <td>NaN</td>\n",
       "      <td>NaN</td>\n",
       "      <td>NaN</td>\n",
       "      <td>...</td>\n",
       "      <td>1069.0</td>\n",
       "      <td>1088.0</td>\n",
       "      <td>1203.0</td>\n",
       "      <td>1094.0</td>\n",
       "      <td>1291.0</td>\n",
       "      <td>1241.0</td>\n",
       "      <td>1254.0</td>\n",
       "      <td>1381.0</td>\n",
       "      <td>1416.0</td>\n",
       "      <td>1459.0</td>\n",
       "    </tr>\n",
       "    <tr>\n",
       "      <th>k</th>\n",
       "      <td>13.0</td>\n",
       "      <td>15.0</td>\n",
       "      <td>11.0</td>\n",
       "      <td>17.0</td>\n",
       "      <td>21.0</td>\n",
       "      <td>18.0</td>\n",
       "      <td>27.0</td>\n",
       "      <td>19.0</td>\n",
       "      <td>21.0</td>\n",
       "      <td>22.0</td>\n",
       "      <td>...</td>\n",
       "      <td>42477.0</td>\n",
       "      <td>42043.0</td>\n",
       "      <td>42296.0</td>\n",
       "      <td>41400.0</td>\n",
       "      <td>42151.0</td>\n",
       "      <td>42537.0</td>\n",
       "      <td>42136.0</td>\n",
       "      <td>39563.0</td>\n",
       "      <td>37507.0</td>\n",
       "      <td>35198.0</td>\n",
       "    </tr>\n",
       "    <tr>\n",
       "      <th>l</th>\n",
       "      <td>2541.0</td>\n",
       "      <td>2911.0</td>\n",
       "      <td>3527.0</td>\n",
       "      <td>3848.0</td>\n",
       "      <td>4808.0</td>\n",
       "      <td>5144.0</td>\n",
       "      <td>5721.0</td>\n",
       "      <td>6175.0</td>\n",
       "      <td>7900.0</td>\n",
       "      <td>8395.0</td>\n",
       "      <td>...</td>\n",
       "      <td>153648.0</td>\n",
       "      <td>153493.0</td>\n",
       "      <td>153862.0</td>\n",
       "      <td>152800.0</td>\n",
       "      <td>155312.0</td>\n",
       "      <td>156234.0</td>\n",
       "      <td>155203.0</td>\n",
       "      <td>150791.0</td>\n",
       "      <td>143751.0</td>\n",
       "      <td>133583.0</td>\n",
       "    </tr>\n",
       "    <tr>\n",
       "      <th>m</th>\n",
       "      <td>58.0</td>\n",
       "      <td>57.0</td>\n",
       "      <td>81.0</td>\n",
       "      <td>86.0</td>\n",
       "      <td>79.0</td>\n",
       "      <td>75.0</td>\n",
       "      <td>103.0</td>\n",
       "      <td>90.0</td>\n",
       "      <td>123.0</td>\n",
       "      <td>137.0</td>\n",
       "      <td>...</td>\n",
       "      <td>41967.0</td>\n",
       "      <td>42663.0</td>\n",
       "      <td>42790.0</td>\n",
       "      <td>43054.0</td>\n",
       "      <td>41600.0</td>\n",
       "      <td>42503.0</td>\n",
       "      <td>43860.0</td>\n",
       "      <td>44316.0</td>\n",
       "      <td>46278.0</td>\n",
       "      <td>46808.0</td>\n",
       "    </tr>\n",
       "    <tr>\n",
       "      <th>n</th>\n",
       "      <td>3008.0</td>\n",
       "      <td>2959.0</td>\n",
       "      <td>3576.0</td>\n",
       "      <td>3837.0</td>\n",
       "      <td>4507.0</td>\n",
       "      <td>4735.0</td>\n",
       "      <td>5242.0</td>\n",
       "      <td>5512.0</td>\n",
       "      <td>6833.0</td>\n",
       "      <td>7103.0</td>\n",
       "      <td>...</td>\n",
       "      <td>616099.0</td>\n",
       "      <td>630322.0</td>\n",
       "      <td>663419.0</td>\n",
       "      <td>676011.0</td>\n",
       "      <td>686326.0</td>\n",
       "      <td>720998.0</td>\n",
       "      <td>741355.0</td>\n",
       "      <td>733869.0</td>\n",
       "      <td>715388.0</td>\n",
       "      <td>688677.0</td>\n",
       "    </tr>\n",
       "    <tr>\n",
       "      <th>o</th>\n",
       "      <td>30.0</td>\n",
       "      <td>49.0</td>\n",
       "      <td>35.0</td>\n",
       "      <td>47.0</td>\n",
       "      <td>74.0</td>\n",
       "      <td>84.0</td>\n",
       "      <td>93.0</td>\n",
       "      <td>97.0</td>\n",
       "      <td>134.0</td>\n",
       "      <td>142.0</td>\n",
       "      <td>...</td>\n",
       "      <td>82146.0</td>\n",
       "      <td>83180.0</td>\n",
       "      <td>85423.0</td>\n",
       "      <td>88822.0</td>\n",
       "      <td>92001.0</td>\n",
       "      <td>96350.0</td>\n",
       "      <td>96895.0</td>\n",
       "      <td>91485.0</td>\n",
       "      <td>86423.0</td>\n",
       "      <td>81025.0</td>\n",
       "    </tr>\n",
       "    <tr>\n",
       "      <th>p</th>\n",
       "      <td>NaN</td>\n",
       "      <td>NaN</td>\n",
       "      <td>NaN</td>\n",
       "      <td>NaN</td>\n",
       "      <td>NaN</td>\n",
       "      <td>NaN</td>\n",
       "      <td>NaN</td>\n",
       "      <td>NaN</td>\n",
       "      <td>NaN</td>\n",
       "      <td>NaN</td>\n",
       "      <td>...</td>\n",
       "      <td>3419.0</td>\n",
       "      <td>3157.0</td>\n",
       "      <td>2982.0</td>\n",
       "      <td>2841.0</td>\n",
       "      <td>2768.0</td>\n",
       "      <td>2721.0</td>\n",
       "      <td>2739.0</td>\n",
       "      <td>2637.0</td>\n",
       "      <td>2595.0</td>\n",
       "      <td>2409.0</td>\n",
       "    </tr>\n",
       "    <tr>\n",
       "      <th>q</th>\n",
       "      <td>NaN</td>\n",
       "      <td>NaN</td>\n",
       "      <td>NaN</td>\n",
       "      <td>NaN</td>\n",
       "      <td>NaN</td>\n",
       "      <td>NaN</td>\n",
       "      <td>NaN</td>\n",
       "      <td>NaN</td>\n",
       "      <td>NaN</td>\n",
       "      <td>NaN</td>\n",
       "      <td>...</td>\n",
       "      <td>602.0</td>\n",
       "      <td>618.0</td>\n",
       "      <td>585.0</td>\n",
       "      <td>523.0</td>\n",
       "      <td>446.0</td>\n",
       "      <td>430.0</td>\n",
       "      <td>431.0</td>\n",
       "      <td>339.0</td>\n",
       "      <td>377.0</td>\n",
       "      <td>342.0</td>\n",
       "    </tr>\n",
       "    <tr>\n",
       "      <th>r</th>\n",
       "      <td>481.0</td>\n",
       "      <td>417.0</td>\n",
       "      <td>590.0</td>\n",
       "      <td>640.0</td>\n",
       "      <td>718.0</td>\n",
       "      <td>799.0</td>\n",
       "      <td>917.0</td>\n",
       "      <td>910.0</td>\n",
       "      <td>1207.0</td>\n",
       "      <td>1214.0</td>\n",
       "      <td>...</td>\n",
       "      <td>165377.0</td>\n",
       "      <td>164821.0</td>\n",
       "      <td>169878.0</td>\n",
       "      <td>169452.0</td>\n",
       "      <td>172069.0</td>\n",
       "      <td>176490.0</td>\n",
       "      <td>177207.0</td>\n",
       "      <td>174632.0</td>\n",
       "      <td>173200.0</td>\n",
       "      <td>166064.0</td>\n",
       "    </tr>\n",
       "    <tr>\n",
       "      <th>s</th>\n",
       "      <td>1391.0</td>\n",
       "      <td>1316.0</td>\n",
       "      <td>1637.0</td>\n",
       "      <td>1794.0</td>\n",
       "      <td>2039.0</td>\n",
       "      <td>2127.0</td>\n",
       "      <td>2524.0</td>\n",
       "      <td>2803.0</td>\n",
       "      <td>3582.0</td>\n",
       "      <td>3569.0</td>\n",
       "      <td>...</td>\n",
       "      <td>143791.0</td>\n",
       "      <td>139595.0</td>\n",
       "      <td>138632.0</td>\n",
       "      <td>139642.0</td>\n",
       "      <td>139913.0</td>\n",
       "      <td>143232.0</td>\n",
       "      <td>142155.0</td>\n",
       "      <td>137056.0</td>\n",
       "      <td>129861.0</td>\n",
       "      <td>123670.0</td>\n",
       "    </tr>\n",
       "    <tr>\n",
       "      <th>t</th>\n",
       "      <td>2152.0</td>\n",
       "      <td>2165.0</td>\n",
       "      <td>2399.0</td>\n",
       "      <td>2554.0</td>\n",
       "      <td>2825.0</td>\n",
       "      <td>2889.0</td>\n",
       "      <td>3017.0</td>\n",
       "      <td>3140.0</td>\n",
       "      <td>3816.0</td>\n",
       "      <td>3784.0</td>\n",
       "      <td>...</td>\n",
       "      <td>47688.0</td>\n",
       "      <td>44991.0</td>\n",
       "      <td>43765.0</td>\n",
       "      <td>43870.0</td>\n",
       "      <td>43369.0</td>\n",
       "      <td>43553.0</td>\n",
       "      <td>43437.0</td>\n",
       "      <td>43846.0</td>\n",
       "      <td>43674.0</td>\n",
       "      <td>43398.0</td>\n",
       "    </tr>\n",
       "    <tr>\n",
       "      <th>u</th>\n",
       "      <td>380.0</td>\n",
       "      <td>427.0</td>\n",
       "      <td>410.0</td>\n",
       "      <td>444.0</td>\n",
       "      <td>490.0</td>\n",
       "      <td>495.0</td>\n",
       "      <td>511.0</td>\n",
       "      <td>476.0</td>\n",
       "      <td>541.0</td>\n",
       "      <td>469.0</td>\n",
       "      <td>...</td>\n",
       "      <td>1833.0</td>\n",
       "      <td>1819.0</td>\n",
       "      <td>2052.0</td>\n",
       "      <td>2138.0</td>\n",
       "      <td>2129.0</td>\n",
       "      <td>2201.0</td>\n",
       "      <td>2311.0</td>\n",
       "      <td>2405.0</td>\n",
       "      <td>2417.0</td>\n",
       "      <td>2318.0</td>\n",
       "    </tr>\n",
       "    <tr>\n",
       "      <th>v</th>\n",
       "      <td>NaN</td>\n",
       "      <td>NaN</td>\n",
       "      <td>NaN</td>\n",
       "      <td>NaN</td>\n",
       "      <td>NaN</td>\n",
       "      <td>NaN</td>\n",
       "      <td>NaN</td>\n",
       "      <td>NaN</td>\n",
       "      <td>NaN</td>\n",
       "      <td>NaN</td>\n",
       "      <td>...</td>\n",
       "      <td>1209.0</td>\n",
       "      <td>1332.0</td>\n",
       "      <td>1652.0</td>\n",
       "      <td>1823.0</td>\n",
       "      <td>1794.0</td>\n",
       "      <td>2010.0</td>\n",
       "      <td>2295.0</td>\n",
       "      <td>2418.0</td>\n",
       "      <td>2589.0</td>\n",
       "      <td>2723.0</td>\n",
       "    </tr>\n",
       "    <tr>\n",
       "      <th>w</th>\n",
       "      <td>NaN</td>\n",
       "      <td>5.0</td>\n",
       "      <td>NaN</td>\n",
       "      <td>NaN</td>\n",
       "      <td>NaN</td>\n",
       "      <td>NaN</td>\n",
       "      <td>5.0</td>\n",
       "      <td>NaN</td>\n",
       "      <td>NaN</td>\n",
       "      <td>NaN</td>\n",
       "      <td>...</td>\n",
       "      <td>52265.0</td>\n",
       "      <td>50103.0</td>\n",
       "      <td>49079.0</td>\n",
       "      <td>47556.0</td>\n",
       "      <td>45464.0</td>\n",
       "      <td>43217.0</td>\n",
       "      <td>40251.0</td>\n",
       "      <td>36937.0</td>\n",
       "      <td>33181.0</td>\n",
       "      <td>30656.0</td>\n",
       "    </tr>\n",
       "    <tr>\n",
       "      <th>x</th>\n",
       "      <td>NaN</td>\n",
       "      <td>NaN</td>\n",
       "      <td>NaN</td>\n",
       "      <td>7.0</td>\n",
       "      <td>NaN</td>\n",
       "      <td>NaN</td>\n",
       "      <td>NaN</td>\n",
       "      <td>NaN</td>\n",
       "      <td>NaN</td>\n",
       "      <td>NaN</td>\n",
       "      <td>...</td>\n",
       "      <td>10691.0</td>\n",
       "      <td>11009.0</td>\n",
       "      <td>11718.0</td>\n",
       "      <td>12399.0</td>\n",
       "      <td>13025.0</td>\n",
       "      <td>13992.0</td>\n",
       "      <td>14306.0</td>\n",
       "      <td>14834.0</td>\n",
       "      <td>16640.0</td>\n",
       "      <td>16352.0</td>\n",
       "    </tr>\n",
       "    <tr>\n",
       "      <th>y</th>\n",
       "      <td>10469.0</td>\n",
       "      <td>10404.0</td>\n",
       "      <td>12145.0</td>\n",
       "      <td>12063.0</td>\n",
       "      <td>13917.0</td>\n",
       "      <td>13927.0</td>\n",
       "      <td>14936.0</td>\n",
       "      <td>14980.0</td>\n",
       "      <td>17931.0</td>\n",
       "      <td>17601.0</td>\n",
       "      <td>...</td>\n",
       "      <td>139109.0</td>\n",
       "      <td>134557.0</td>\n",
       "      <td>130569.0</td>\n",
       "      <td>128367.0</td>\n",
       "      <td>125190.0</td>\n",
       "      <td>123707.0</td>\n",
       "      <td>123397.0</td>\n",
       "      <td>122633.0</td>\n",
       "      <td>112922.0</td>\n",
       "      <td>110425.0</td>\n",
       "    </tr>\n",
       "    <tr>\n",
       "      <th>z</th>\n",
       "      <td>106.0</td>\n",
       "      <td>95.0</td>\n",
       "      <td>106.0</td>\n",
       "      <td>141.0</td>\n",
       "      <td>148.0</td>\n",
       "      <td>150.0</td>\n",
       "      <td>202.0</td>\n",
       "      <td>188.0</td>\n",
       "      <td>238.0</td>\n",
       "      <td>277.0</td>\n",
       "      <td>...</td>\n",
       "      <td>2840.0</td>\n",
       "      <td>2737.0</td>\n",
       "      <td>2722.0</td>\n",
       "      <td>2710.0</td>\n",
       "      <td>2903.0</td>\n",
       "      <td>3086.0</td>\n",
       "      <td>3301.0</td>\n",
       "      <td>3473.0</td>\n",
       "      <td>3633.0</td>\n",
       "      <td>3476.0</td>\n",
       "    </tr>\n",
       "  </tbody>\n",
       "</table>\n",
       "<p>26 rows × 262 columns</p>\n",
       "</div>"
      ],
      "text/plain": [
       "sex                     F                                               \\\n",
       "year                 1880     1881     1882     1883     1884     1885   \n",
       "name_last_letter                                                         \n",
       "a                 31446.0  31581.0  36536.0  38330.0  43680.0  45408.0   \n",
       "b                     NaN      NaN      NaN      NaN      NaN      NaN   \n",
       "c                     NaN      NaN      5.0      5.0      NaN      NaN   \n",
       "d                   609.0    607.0    734.0    810.0    916.0    862.0   \n",
       "e                 33378.0  34080.0  40399.0  41914.0  48089.0  49616.0   \n",
       "f                     NaN      NaN      NaN      NaN      NaN      NaN   \n",
       "g                     7.0      5.0     12.0      8.0     24.0     11.0   \n",
       "h                  4863.0   4784.0   5567.0   5701.0   6602.0   6624.0   \n",
       "i                    61.0     78.0     81.0     76.0     84.0     92.0   \n",
       "j                     NaN      NaN      NaN      NaN      NaN      NaN   \n",
       "k                    13.0     15.0     11.0     17.0     21.0     18.0   \n",
       "l                  2541.0   2911.0   3527.0   3848.0   4808.0   5144.0   \n",
       "m                    58.0     57.0     81.0     86.0     79.0     75.0   \n",
       "n                  3008.0   2959.0   3576.0   3837.0   4507.0   4735.0   \n",
       "o                    30.0     49.0     35.0     47.0     74.0     84.0   \n",
       "p                     NaN      NaN      NaN      NaN      NaN      NaN   \n",
       "q                     NaN      NaN      NaN      NaN      NaN      NaN   \n",
       "r                   481.0    417.0    590.0    640.0    718.0    799.0   \n",
       "s                  1391.0   1316.0   1637.0   1794.0   2039.0   2127.0   \n",
       "t                  2152.0   2165.0   2399.0   2554.0   2825.0   2889.0   \n",
       "u                   380.0    427.0    410.0    444.0    490.0    495.0   \n",
       "v                     NaN      NaN      NaN      NaN      NaN      NaN   \n",
       "w                     NaN      5.0      NaN      NaN      NaN      NaN   \n",
       "x                     NaN      NaN      NaN      7.0      NaN      NaN   \n",
       "y                 10469.0  10404.0  12145.0  12063.0  13917.0  13927.0   \n",
       "z                   106.0     95.0    106.0    141.0    148.0    150.0   \n",
       "\n",
       "sex                                                     ...            M  \\\n",
       "year                 1886     1887     1888     1889    ...         2001   \n",
       "name_last_letter                                        ...                \n",
       "a                 49100.0  48942.0  59442.0  58631.0    ...      39124.0   \n",
       "b                     NaN      NaN      NaN      NaN    ...      50950.0   \n",
       "c                     NaN      NaN      NaN      NaN    ...      27113.0   \n",
       "d                  1007.0   1027.0   1298.0   1374.0    ...      60838.0   \n",
       "e                 53884.0  54353.0  66750.0  66663.0    ...     145395.0   \n",
       "f                     NaN      NaN      NaN      NaN    ...       1758.0   \n",
       "g                    18.0     25.0     44.0     28.0    ...       2151.0   \n",
       "h                  7146.0   7141.0   8630.0   8826.0    ...      85959.0   \n",
       "i                    85.0    105.0    141.0    134.0    ...      20980.0   \n",
       "j                     NaN      NaN      NaN      NaN    ...       1069.0   \n",
       "k                    27.0     19.0     21.0     22.0    ...      42477.0   \n",
       "l                  5721.0   6175.0   7900.0   8395.0    ...     153648.0   \n",
       "m                   103.0     90.0    123.0    137.0    ...      41967.0   \n",
       "n                  5242.0   5512.0   6833.0   7103.0    ...     616099.0   \n",
       "o                    93.0     97.0    134.0    142.0    ...      82146.0   \n",
       "p                     NaN      NaN      NaN      NaN    ...       3419.0   \n",
       "q                     NaN      NaN      NaN      NaN    ...        602.0   \n",
       "r                   917.0    910.0   1207.0   1214.0    ...     165377.0   \n",
       "s                  2524.0   2803.0   3582.0   3569.0    ...     143791.0   \n",
       "t                  3017.0   3140.0   3816.0   3784.0    ...      47688.0   \n",
       "u                   511.0    476.0    541.0    469.0    ...       1833.0   \n",
       "v                     NaN      NaN      NaN      NaN    ...       1209.0   \n",
       "w                     5.0      NaN      NaN      NaN    ...      52265.0   \n",
       "x                     NaN      NaN      NaN      NaN    ...      10691.0   \n",
       "y                 14936.0  14980.0  17931.0  17601.0    ...     139109.0   \n",
       "z                   202.0    188.0    238.0    277.0    ...       2840.0   \n",
       "\n",
       "sex                                                                           \\\n",
       "year                  2002      2003      2004      2005      2006      2007   \n",
       "name_last_letter                                                               \n",
       "a                  38815.0   37825.0   38650.0   36838.0   36156.0   34654.0   \n",
       "b                  49284.0   48065.0   45914.0   43144.0   42600.0   42123.0   \n",
       "c                  27238.0   27697.0   26778.0   26078.0   26635.0   26864.0   \n",
       "d                  55829.0   53391.0   51754.0   50670.0   51410.0   50595.0   \n",
       "e                 144651.0  144769.0  142098.0  141123.0  142999.0  143698.0   \n",
       "f                   1817.0    1819.0    1904.0    1985.0    1968.0    2090.0   \n",
       "g                   2084.0    2009.0    1837.0    1882.0    1929.0    2040.0   \n",
       "h                  88085.0   88226.0   89620.0   92497.0   98477.0   99414.0   \n",
       "i                  23610.0   26011.0   28500.0   31317.0   33558.0   35231.0   \n",
       "j                   1088.0    1203.0    1094.0    1291.0    1241.0    1254.0   \n",
       "k                  42043.0   42296.0   41400.0   42151.0   42537.0   42136.0   \n",
       "l                 153493.0  153862.0  152800.0  155312.0  156234.0  155203.0   \n",
       "m                  42663.0   42790.0   43054.0   41600.0   42503.0   43860.0   \n",
       "n                 630322.0  663419.0  676011.0  686326.0  720998.0  741355.0   \n",
       "o                  83180.0   85423.0   88822.0   92001.0   96350.0   96895.0   \n",
       "p                   3157.0    2982.0    2841.0    2768.0    2721.0    2739.0   \n",
       "q                    618.0     585.0     523.0     446.0     430.0     431.0   \n",
       "r                 164821.0  169878.0  169452.0  172069.0  176490.0  177207.0   \n",
       "s                 139595.0  138632.0  139642.0  139913.0  143232.0  142155.0   \n",
       "t                  44991.0   43765.0   43870.0   43369.0   43553.0   43437.0   \n",
       "u                   1819.0    2052.0    2138.0    2129.0    2201.0    2311.0   \n",
       "v                   1332.0    1652.0    1823.0    1794.0    2010.0    2295.0   \n",
       "w                  50103.0   49079.0   47556.0   45464.0   43217.0   40251.0   \n",
       "x                  11009.0   11718.0   12399.0   13025.0   13992.0   14306.0   \n",
       "y                 134557.0  130569.0  128367.0  125190.0  123707.0  123397.0   \n",
       "z                   2737.0    2722.0    2710.0    2903.0    3086.0    3301.0   \n",
       "\n",
       "sex                                             \n",
       "year                  2008      2009      2010  \n",
       "name_last_letter                                \n",
       "a                  32901.0   31430.0   28438.0  \n",
       "b                  39945.0   38862.0   38859.0  \n",
       "c                  25318.0   24048.0   23125.0  \n",
       "d                  47910.0   46172.0   44398.0  \n",
       "e                 140966.0  135496.0  129012.0  \n",
       "f                   2195.0    2212.0    2255.0  \n",
       "g                   2059.0    2396.0    2666.0  \n",
       "h                 100250.0   99979.0   98090.0  \n",
       "i                  38151.0   40912.0   42956.0  \n",
       "j                   1381.0    1416.0    1459.0  \n",
       "k                  39563.0   37507.0   35198.0  \n",
       "l                 150791.0  143751.0  133583.0  \n",
       "m                  44316.0   46278.0   46808.0  \n",
       "n                 733869.0  715388.0  688677.0  \n",
       "o                  91485.0   86423.0   81025.0  \n",
       "p                   2637.0    2595.0    2409.0  \n",
       "q                    339.0     377.0     342.0  \n",
       "r                 174632.0  173200.0  166064.0  \n",
       "s                 137056.0  129861.0  123670.0  \n",
       "t                  43846.0   43674.0   43398.0  \n",
       "u                   2405.0    2417.0    2318.0  \n",
       "v                   2418.0    2589.0    2723.0  \n",
       "w                  36937.0   33181.0   30656.0  \n",
       "x                  14834.0   16640.0   16352.0  \n",
       "y                 122633.0  112922.0  110425.0  \n",
       "z                   3473.0    3633.0    3476.0  \n",
       "\n",
       "[26 rows x 262 columns]"
      ]
     },
     "execution_count": 212,
     "metadata": {},
     "output_type": "execute_result"
    }
   ],
   "source": [
    "table"
   ]
  },
  {
   "cell_type": "code",
   "execution_count": 213,
   "metadata": {
    "collapsed": true
   },
   "outputs": [],
   "source": [
    "subtable = table.reindex(columns=[1910,1960,2010],level='year')"
   ]
  },
  {
   "cell_type": "code",
   "execution_count": 217,
   "metadata": {
    "scrolled": true
   },
   "outputs": [
    {
     "data": {
      "text/plain": [
       "sex  year\n",
       "F    1910     396416.0\n",
       "     1960    2022062.0\n",
       "     2010    1759010.0\n",
       "M    1910     194198.0\n",
       "     1960    2132588.0\n",
       "     2010    1898382.0\n",
       "dtype: float64"
      ]
     },
     "execution_count": 217,
     "metadata": {},
     "output_type": "execute_result"
    }
   ],
   "source": [
    "subtable.sum()"
   ]
  },
  {
   "cell_type": "code",
   "execution_count": 219,
   "metadata": {},
   "outputs": [
    {
     "data": {
      "text/html": [
       "<div>\n",
       "<style>\n",
       "    .dataframe thead tr:only-child th {\n",
       "        text-align: right;\n",
       "    }\n",
       "\n",
       "    .dataframe thead th {\n",
       "        text-align: left;\n",
       "    }\n",
       "\n",
       "    .dataframe tbody tr th {\n",
       "        vertical-align: top;\n",
       "    }\n",
       "</style>\n",
       "<table border=\"1\" class=\"dataframe\">\n",
       "  <thead>\n",
       "    <tr>\n",
       "      <th>sex</th>\n",
       "      <th colspan=\"3\" halign=\"left\">F</th>\n",
       "      <th colspan=\"3\" halign=\"left\">M</th>\n",
       "    </tr>\n",
       "    <tr>\n",
       "      <th>year</th>\n",
       "      <th>1910</th>\n",
       "      <th>1960</th>\n",
       "      <th>2010</th>\n",
       "      <th>1910</th>\n",
       "      <th>1960</th>\n",
       "      <th>2010</th>\n",
       "    </tr>\n",
       "    <tr>\n",
       "      <th>name_last_letter</th>\n",
       "      <th></th>\n",
       "      <th></th>\n",
       "      <th></th>\n",
       "      <th></th>\n",
       "      <th></th>\n",
       "      <th></th>\n",
       "    </tr>\n",
       "  </thead>\n",
       "  <tbody>\n",
       "    <tr>\n",
       "      <th>a</th>\n",
       "      <td>108376.0</td>\n",
       "      <td>691247.0</td>\n",
       "      <td>670605.0</td>\n",
       "      <td>977.0</td>\n",
       "      <td>5204.0</td>\n",
       "      <td>28438.0</td>\n",
       "    </tr>\n",
       "    <tr>\n",
       "      <th>b</th>\n",
       "      <td>NaN</td>\n",
       "      <td>694.0</td>\n",
       "      <td>450.0</td>\n",
       "      <td>411.0</td>\n",
       "      <td>3912.0</td>\n",
       "      <td>38859.0</td>\n",
       "    </tr>\n",
       "    <tr>\n",
       "      <th>c</th>\n",
       "      <td>5.0</td>\n",
       "      <td>49.0</td>\n",
       "      <td>946.0</td>\n",
       "      <td>482.0</td>\n",
       "      <td>15476.0</td>\n",
       "      <td>23125.0</td>\n",
       "    </tr>\n",
       "    <tr>\n",
       "      <th>d</th>\n",
       "      <td>6750.0</td>\n",
       "      <td>3729.0</td>\n",
       "      <td>2607.0</td>\n",
       "      <td>22111.0</td>\n",
       "      <td>262112.0</td>\n",
       "      <td>44398.0</td>\n",
       "    </tr>\n",
       "    <tr>\n",
       "      <th>e</th>\n",
       "      <td>133569.0</td>\n",
       "      <td>435013.0</td>\n",
       "      <td>313833.0</td>\n",
       "      <td>28655.0</td>\n",
       "      <td>178823.0</td>\n",
       "      <td>129012.0</td>\n",
       "    </tr>\n",
       "    <tr>\n",
       "      <th>f</th>\n",
       "      <td>NaN</td>\n",
       "      <td>20.0</td>\n",
       "      <td>97.0</td>\n",
       "      <td>152.0</td>\n",
       "      <td>9224.0</td>\n",
       "      <td>2255.0</td>\n",
       "    </tr>\n",
       "    <tr>\n",
       "      <th>g</th>\n",
       "      <td>57.0</td>\n",
       "      <td>318.0</td>\n",
       "      <td>657.0</td>\n",
       "      <td>437.0</td>\n",
       "      <td>20235.0</td>\n",
       "      <td>2666.0</td>\n",
       "    </tr>\n",
       "    <tr>\n",
       "      <th>h</th>\n",
       "      <td>20427.0</td>\n",
       "      <td>73247.0</td>\n",
       "      <td>133424.0</td>\n",
       "      <td>8848.0</td>\n",
       "      <td>80841.0</td>\n",
       "      <td>98090.0</td>\n",
       "    </tr>\n",
       "    <tr>\n",
       "      <th>i</th>\n",
       "      <td>605.0</td>\n",
       "      <td>80812.0</td>\n",
       "      <td>55820.0</td>\n",
       "      <td>164.0</td>\n",
       "      <td>1286.0</td>\n",
       "      <td>42956.0</td>\n",
       "    </tr>\n",
       "    <tr>\n",
       "      <th>j</th>\n",
       "      <td>NaN</td>\n",
       "      <td>NaN</td>\n",
       "      <td>159.0</td>\n",
       "      <td>NaN</td>\n",
       "      <td>NaN</td>\n",
       "      <td>1459.0</td>\n",
       "    </tr>\n",
       "    <tr>\n",
       "      <th>k</th>\n",
       "      <td>48.0</td>\n",
       "      <td>315.0</td>\n",
       "      <td>626.0</td>\n",
       "      <td>7104.0</td>\n",
       "      <td>105315.0</td>\n",
       "      <td>35198.0</td>\n",
       "    </tr>\n",
       "    <tr>\n",
       "      <th>l</th>\n",
       "      <td>17121.0</td>\n",
       "      <td>68482.0</td>\n",
       "      <td>46360.0</td>\n",
       "      <td>12626.0</td>\n",
       "      <td>223716.0</td>\n",
       "      <td>133583.0</td>\n",
       "    </tr>\n",
       "    <tr>\n",
       "      <th>m</th>\n",
       "      <td>476.0</td>\n",
       "      <td>17417.0</td>\n",
       "      <td>4552.0</td>\n",
       "      <td>11272.0</td>\n",
       "      <td>72139.0</td>\n",
       "      <td>46808.0</td>\n",
       "    </tr>\n",
       "    <tr>\n",
       "      <th>n</th>\n",
       "      <td>31412.0</td>\n",
       "      <td>264258.0</td>\n",
       "      <td>246631.0</td>\n",
       "      <td>27851.0</td>\n",
       "      <td>325266.0</td>\n",
       "      <td>688677.0</td>\n",
       "    </tr>\n",
       "    <tr>\n",
       "      <th>o</th>\n",
       "      <td>658.0</td>\n",
       "      <td>4932.0</td>\n",
       "      <td>2187.0</td>\n",
       "      <td>3314.0</td>\n",
       "      <td>27358.0</td>\n",
       "      <td>81025.0</td>\n",
       "    </tr>\n",
       "    <tr>\n",
       "      <th>p</th>\n",
       "      <td>7.0</td>\n",
       "      <td>47.0</td>\n",
       "      <td>35.0</td>\n",
       "      <td>616.0</td>\n",
       "      <td>12102.0</td>\n",
       "      <td>2409.0</td>\n",
       "    </tr>\n",
       "    <tr>\n",
       "      <th>q</th>\n",
       "      <td>NaN</td>\n",
       "      <td>NaN</td>\n",
       "      <td>53.0</td>\n",
       "      <td>NaN</td>\n",
       "      <td>NaN</td>\n",
       "      <td>342.0</td>\n",
       "    </tr>\n",
       "    <tr>\n",
       "      <th>r</th>\n",
       "      <td>5308.0</td>\n",
       "      <td>13677.0</td>\n",
       "      <td>31707.0</td>\n",
       "      <td>12522.0</td>\n",
       "      <td>66183.0</td>\n",
       "      <td>166064.0</td>\n",
       "    </tr>\n",
       "    <tr>\n",
       "      <th>s</th>\n",
       "      <td>15477.0</td>\n",
       "      <td>25810.0</td>\n",
       "      <td>23451.0</td>\n",
       "      <td>25404.0</td>\n",
       "      <td>219080.0</td>\n",
       "      <td>123670.0</td>\n",
       "    </tr>\n",
       "    <tr>\n",
       "      <th>t</th>\n",
       "      <td>10877.0</td>\n",
       "      <td>30738.0</td>\n",
       "      <td>13773.0</td>\n",
       "      <td>14153.0</td>\n",
       "      <td>140015.0</td>\n",
       "      <td>43398.0</td>\n",
       "    </tr>\n",
       "    <tr>\n",
       "      <th>u</th>\n",
       "      <td>271.0</td>\n",
       "      <td>1161.0</td>\n",
       "      <td>734.0</td>\n",
       "      <td>24.0</td>\n",
       "      <td>122.0</td>\n",
       "      <td>2318.0</td>\n",
       "    </tr>\n",
       "    <tr>\n",
       "      <th>v</th>\n",
       "      <td>NaN</td>\n",
       "      <td>122.0</td>\n",
       "      <td>205.0</td>\n",
       "      <td>22.0</td>\n",
       "      <td>78.0</td>\n",
       "      <td>2723.0</td>\n",
       "    </tr>\n",
       "    <tr>\n",
       "      <th>w</th>\n",
       "      <td>8.0</td>\n",
       "      <td>63.0</td>\n",
       "      <td>2080.0</td>\n",
       "      <td>1229.0</td>\n",
       "      <td>16444.0</td>\n",
       "      <td>30656.0</td>\n",
       "    </tr>\n",
       "    <tr>\n",
       "      <th>x</th>\n",
       "      <td>6.0</td>\n",
       "      <td>74.0</td>\n",
       "      <td>1279.0</td>\n",
       "      <td>770.0</td>\n",
       "      <td>3947.0</td>\n",
       "      <td>16352.0</td>\n",
       "    </tr>\n",
       "    <tr>\n",
       "      <th>y</th>\n",
       "      <td>43991.0</td>\n",
       "      <td>308504.0</td>\n",
       "      <td>205501.0</td>\n",
       "      <td>15021.0</td>\n",
       "      <td>343318.0</td>\n",
       "      <td>110425.0</td>\n",
       "    </tr>\n",
       "    <tr>\n",
       "      <th>z</th>\n",
       "      <td>967.0</td>\n",
       "      <td>1333.0</td>\n",
       "      <td>1238.0</td>\n",
       "      <td>33.0</td>\n",
       "      <td>392.0</td>\n",
       "      <td>3476.0</td>\n",
       "    </tr>\n",
       "  </tbody>\n",
       "</table>\n",
       "</div>"
      ],
      "text/plain": [
       "sex                      F                            M                    \n",
       "year                  1910      1960      2010     1910      1960      2010\n",
       "name_last_letter                                                           \n",
       "a                 108376.0  691247.0  670605.0    977.0    5204.0   28438.0\n",
       "b                      NaN     694.0     450.0    411.0    3912.0   38859.0\n",
       "c                      5.0      49.0     946.0    482.0   15476.0   23125.0\n",
       "d                   6750.0    3729.0    2607.0  22111.0  262112.0   44398.0\n",
       "e                 133569.0  435013.0  313833.0  28655.0  178823.0  129012.0\n",
       "f                      NaN      20.0      97.0    152.0    9224.0    2255.0\n",
       "g                     57.0     318.0     657.0    437.0   20235.0    2666.0\n",
       "h                  20427.0   73247.0  133424.0   8848.0   80841.0   98090.0\n",
       "i                    605.0   80812.0   55820.0    164.0    1286.0   42956.0\n",
       "j                      NaN       NaN     159.0      NaN       NaN    1459.0\n",
       "k                     48.0     315.0     626.0   7104.0  105315.0   35198.0\n",
       "l                  17121.0   68482.0   46360.0  12626.0  223716.0  133583.0\n",
       "m                    476.0   17417.0    4552.0  11272.0   72139.0   46808.0\n",
       "n                  31412.0  264258.0  246631.0  27851.0  325266.0  688677.0\n",
       "o                    658.0    4932.0    2187.0   3314.0   27358.0   81025.0\n",
       "p                      7.0      47.0      35.0    616.0   12102.0    2409.0\n",
       "q                      NaN       NaN      53.0      NaN       NaN     342.0\n",
       "r                   5308.0   13677.0   31707.0  12522.0   66183.0  166064.0\n",
       "s                  15477.0   25810.0   23451.0  25404.0  219080.0  123670.0\n",
       "t                  10877.0   30738.0   13773.0  14153.0  140015.0   43398.0\n",
       "u                    271.0    1161.0     734.0     24.0     122.0    2318.0\n",
       "v                      NaN     122.0     205.0     22.0      78.0    2723.0\n",
       "w                      8.0      63.0    2080.0   1229.0   16444.0   30656.0\n",
       "x                      6.0      74.0    1279.0    770.0    3947.0   16352.0\n",
       "y                  43991.0  308504.0  205501.0  15021.0  343318.0  110425.0\n",
       "z                    967.0    1333.0    1238.0     33.0     392.0    3476.0"
      ]
     },
     "execution_count": 219,
     "metadata": {},
     "output_type": "execute_result"
    }
   ],
   "source": [
    "subtable"
   ]
  },
  {
   "cell_type": "code",
   "execution_count": 220,
   "metadata": {
    "collapsed": true
   },
   "outputs": [],
   "source": [
    "letter_prop = subtable/subtable.sum()"
   ]
  },
  {
   "cell_type": "code",
   "execution_count": 243,
   "metadata": {},
   "outputs": [
    {
     "data": {
      "image/png": "[encoded data removed]",
      "text/plain": [
       "<matplotlib.figure.Figure at 0x13df36dd0>"
      ]
     },
     "metadata": {},
     "output_type": "display_data"
    }
   ],
   "source": [
    "fig,axes = plt.subplots(2,1,figsize=(10,8))\n",
    "# axes是一个用于存放maplotlib.axes对象的numpy数组\n",
    "letter_prop['M'].plot(kind='bar',rot=0,ax=axes[0],title='Male') \n",
    "letter_prop['F'].plot(kind='bar',rot=0,ax=axes[1],title='Female',legend=False)\n",
    "plt.subplots_adjust(bottom=2,top=3)\n",
    "# rot用于控制xlabel的角度，0表示不旋转。ax用于控制放到哪个subplot上，很方便\n",
    "# plt.subplots_adjust用于调整subplot之间的边距, 不然会挤到一起"
   ]
  },
  {
   "cell_type": "code",
   "execution_count": 244,
   "metadata": {
    "collapsed": true
   },
   "outputs": [],
   "source": [
    "letter_prop= table/table.sum()"
   ]
  },
  {
   "cell_type": "code",
   "execution_count": 251,
   "metadata": {
    "collapsed": true
   },
   "outputs": [],
   "source": [
    "dny_ts = letter_prop.loc[['d','n','y'],'M'].T\n",
    "# T是为了将其变成时间序列的格式"
   ]
  },
  {
   "cell_type": "code",
   "execution_count": 252,
   "metadata": {
    "scrolled": true
   },
   "outputs": [
    {
     "data": {
      "text/html": [
       "<div>\n",
       "<style>\n",
       "    .dataframe thead tr:only-child th {\n",
       "        text-align: right;\n",
       "    }\n",
       "\n",
       "    .dataframe thead th {\n",
       "        text-align: left;\n",
       "    }\n",
       "\n",
       "    .dataframe tbody tr th {\n",
       "        vertical-align: top;\n",
       "    }\n",
       "</style>\n",
       "<table border=\"1\" class=\"dataframe\">\n",
       "  <thead>\n",
       "    <tr style=\"text-align: right;\">\n",
       "      <th>name_last_letter</th>\n",
       "      <th>d</th>\n",
       "      <th>n</th>\n",
       "      <th>y</th>\n",
       "    </tr>\n",
       "    <tr>\n",
       "      <th>year</th>\n",
       "      <th></th>\n",
       "      <th></th>\n",
       "      <th></th>\n",
       "    </tr>\n",
       "  </thead>\n",
       "  <tbody>\n",
       "    <tr>\n",
       "      <th>1880</th>\n",
       "      <td>0.083055</td>\n",
       "      <td>0.153213</td>\n",
       "      <td>0.075760</td>\n",
       "    </tr>\n",
       "    <tr>\n",
       "      <th>1881</th>\n",
       "      <td>0.083247</td>\n",
       "      <td>0.153214</td>\n",
       "      <td>0.077451</td>\n",
       "    </tr>\n",
       "    <tr>\n",
       "      <th>1882</th>\n",
       "      <td>0.085340</td>\n",
       "      <td>0.149560</td>\n",
       "      <td>0.077537</td>\n",
       "    </tr>\n",
       "    <tr>\n",
       "      <th>1883</th>\n",
       "      <td>0.084066</td>\n",
       "      <td>0.151646</td>\n",
       "      <td>0.079144</td>\n",
       "    </tr>\n",
       "    <tr>\n",
       "      <th>1884</th>\n",
       "      <td>0.086120</td>\n",
       "      <td>0.149915</td>\n",
       "      <td>0.080405</td>\n",
       "    </tr>\n",
       "    <tr>\n",
       "      <th>1885</th>\n",
       "      <td>0.085472</td>\n",
       "      <td>0.146361</td>\n",
       "      <td>0.081882</td>\n",
       "    </tr>\n",
       "    <tr>\n",
       "      <th>1886</th>\n",
       "      <td>0.087647</td>\n",
       "      <td>0.149659</td>\n",
       "      <td>0.081681</td>\n",
       "    </tr>\n",
       "    <tr>\n",
       "      <th>1887</th>\n",
       "      <td>0.089072</td>\n",
       "      <td>0.148838</td>\n",
       "      <td>0.082870</td>\n",
       "    </tr>\n",
       "    <tr>\n",
       "      <th>1888</th>\n",
       "      <td>0.087707</td>\n",
       "      <td>0.151286</td>\n",
       "      <td>0.084919</td>\n",
       "    </tr>\n",
       "    <tr>\n",
       "      <th>1889</th>\n",
       "      <td>0.091934</td>\n",
       "      <td>0.151976</td>\n",
       "      <td>0.086328</td>\n",
       "    </tr>\n",
       "    <tr>\n",
       "      <th>1890</th>\n",
       "      <td>0.093834</td>\n",
       "      <td>0.146470</td>\n",
       "      <td>0.086277</td>\n",
       "    </tr>\n",
       "    <tr>\n",
       "      <th>1891</th>\n",
       "      <td>0.094478</td>\n",
       "      <td>0.148353</td>\n",
       "      <td>0.084933</td>\n",
       "    </tr>\n",
       "    <tr>\n",
       "      <th>1892</th>\n",
       "      <td>0.096388</td>\n",
       "      <td>0.144857</td>\n",
       "      <td>0.084883</td>\n",
       "    </tr>\n",
       "    <tr>\n",
       "      <th>1893</th>\n",
       "      <td>0.098318</td>\n",
       "      <td>0.142558</td>\n",
       "      <td>0.084643</td>\n",
       "    </tr>\n",
       "    <tr>\n",
       "      <th>1894</th>\n",
       "      <td>0.100462</td>\n",
       "      <td>0.142112</td>\n",
       "      <td>0.085554</td>\n",
       "    </tr>\n",
       "    <tr>\n",
       "      <th>1895</th>\n",
       "      <td>0.100019</td>\n",
       "      <td>0.143350</td>\n",
       "      <td>0.083332</td>\n",
       "    </tr>\n",
       "    <tr>\n",
       "      <th>1896</th>\n",
       "      <td>0.102881</td>\n",
       "      <td>0.140631</td>\n",
       "      <td>0.083922</td>\n",
       "    </tr>\n",
       "    <tr>\n",
       "      <th>1897</th>\n",
       "      <td>0.101987</td>\n",
       "      <td>0.140112</td>\n",
       "      <td>0.083283</td>\n",
       "    </tr>\n",
       "    <tr>\n",
       "      <th>1898</th>\n",
       "      <td>0.104887</td>\n",
       "      <td>0.139614</td>\n",
       "      <td>0.090633</td>\n",
       "    </tr>\n",
       "    <tr>\n",
       "      <th>1899</th>\n",
       "      <td>0.105020</td>\n",
       "      <td>0.140607</td>\n",
       "      <td>0.084807</td>\n",
       "    </tr>\n",
       "    <tr>\n",
       "      <th>1900</th>\n",
       "      <td>0.102946</td>\n",
       "      <td>0.137645</td>\n",
       "      <td>0.084661</td>\n",
       "    </tr>\n",
       "    <tr>\n",
       "      <th>1901</th>\n",
       "      <td>0.106792</td>\n",
       "      <td>0.141428</td>\n",
       "      <td>0.081754</td>\n",
       "    </tr>\n",
       "    <tr>\n",
       "      <th>1902</th>\n",
       "      <td>0.108022</td>\n",
       "      <td>0.140641</td>\n",
       "      <td>0.081901</td>\n",
       "    </tr>\n",
       "    <tr>\n",
       "      <th>1903</th>\n",
       "      <td>0.109577</td>\n",
       "      <td>0.141337</td>\n",
       "      <td>0.080309</td>\n",
       "    </tr>\n",
       "    <tr>\n",
       "      <th>1904</th>\n",
       "      <td>0.109335</td>\n",
       "      <td>0.143145</td>\n",
       "      <td>0.080739</td>\n",
       "    </tr>\n",
       "    <tr>\n",
       "      <th>1905</th>\n",
       "      <td>0.110226</td>\n",
       "      <td>0.142429</td>\n",
       "      <td>0.079331</td>\n",
       "    </tr>\n",
       "    <tr>\n",
       "      <th>1906</th>\n",
       "      <td>0.111836</td>\n",
       "      <td>0.141447</td>\n",
       "      <td>0.078786</td>\n",
       "    </tr>\n",
       "    <tr>\n",
       "      <th>1907</th>\n",
       "      <td>0.112689</td>\n",
       "      <td>0.143328</td>\n",
       "      <td>0.079046</td>\n",
       "    </tr>\n",
       "    <tr>\n",
       "      <th>1908</th>\n",
       "      <td>0.113899</td>\n",
       "      <td>0.143146</td>\n",
       "      <td>0.078593</td>\n",
       "    </tr>\n",
       "    <tr>\n",
       "      <th>1909</th>\n",
       "      <td>0.115500</td>\n",
       "      <td>0.144204</td>\n",
       "      <td>0.077386</td>\n",
       "    </tr>\n",
       "    <tr>\n",
       "      <th>...</th>\n",
       "      <td>...</td>\n",
       "      <td>...</td>\n",
       "      <td>...</td>\n",
       "    </tr>\n",
       "    <tr>\n",
       "      <th>1981</th>\n",
       "      <td>0.069564</td>\n",
       "      <td>0.247668</td>\n",
       "      <td>0.109612</td>\n",
       "    </tr>\n",
       "    <tr>\n",
       "      <th>1982</th>\n",
       "      <td>0.067343</td>\n",
       "      <td>0.247982</td>\n",
       "      <td>0.107810</td>\n",
       "    </tr>\n",
       "    <tr>\n",
       "      <th>1983</th>\n",
       "      <td>0.064590</td>\n",
       "      <td>0.250570</td>\n",
       "      <td>0.103872</td>\n",
       "    </tr>\n",
       "    <tr>\n",
       "      <th>1984</th>\n",
       "      <td>0.062247</td>\n",
       "      <td>0.249121</td>\n",
       "      <td>0.104434</td>\n",
       "    </tr>\n",
       "    <tr>\n",
       "      <th>1985</th>\n",
       "      <td>0.060067</td>\n",
       "      <td>0.249074</td>\n",
       "      <td>0.106783</td>\n",
       "    </tr>\n",
       "    <tr>\n",
       "      <th>1986</th>\n",
       "      <td>0.058999</td>\n",
       "      <td>0.248461</td>\n",
       "      <td>0.108102</td>\n",
       "    </tr>\n",
       "    <tr>\n",
       "      <th>1987</th>\n",
       "      <td>0.057410</td>\n",
       "      <td>0.248466</td>\n",
       "      <td>0.108872</td>\n",
       "    </tr>\n",
       "    <tr>\n",
       "      <th>1988</th>\n",
       "      <td>0.054987</td>\n",
       "      <td>0.250193</td>\n",
       "      <td>0.108163</td>\n",
       "    </tr>\n",
       "    <tr>\n",
       "      <th>1989</th>\n",
       "      <td>0.052868</td>\n",
       "      <td>0.251095</td>\n",
       "      <td>0.106309</td>\n",
       "    </tr>\n",
       "    <tr>\n",
       "      <th>1990</th>\n",
       "      <td>0.049690</td>\n",
       "      <td>0.254481</td>\n",
       "      <td>0.104817</td>\n",
       "    </tr>\n",
       "    <tr>\n",
       "      <th>1991</th>\n",
       "      <td>0.046487</td>\n",
       "      <td>0.260756</td>\n",
       "      <td>0.103390</td>\n",
       "    </tr>\n",
       "    <tr>\n",
       "      <th>1992</th>\n",
       "      <td>0.043886</td>\n",
       "      <td>0.269240</td>\n",
       "      <td>0.101575</td>\n",
       "    </tr>\n",
       "    <tr>\n",
       "      <th>1993</th>\n",
       "      <td>0.042119</td>\n",
       "      <td>0.271248</td>\n",
       "      <td>0.100591</td>\n",
       "    </tr>\n",
       "    <tr>\n",
       "      <th>1994</th>\n",
       "      <td>0.039973</td>\n",
       "      <td>0.278569</td>\n",
       "      <td>0.096975</td>\n",
       "    </tr>\n",
       "    <tr>\n",
       "      <th>1995</th>\n",
       "      <td>0.038017</td>\n",
       "      <td>0.284643</td>\n",
       "      <td>0.091720</td>\n",
       "    </tr>\n",
       "    <tr>\n",
       "      <th>1996</th>\n",
       "      <td>0.037067</td>\n",
       "      <td>0.289856</td>\n",
       "      <td>0.087609</td>\n",
       "    </tr>\n",
       "    <tr>\n",
       "      <th>1997</th>\n",
       "      <td>0.036652</td>\n",
       "      <td>0.293351</td>\n",
       "      <td>0.083793</td>\n",
       "    </tr>\n",
       "    <tr>\n",
       "      <th>1998</th>\n",
       "      <td>0.035442</td>\n",
       "      <td>0.298259</td>\n",
       "      <td>0.079016</td>\n",
       "    </tr>\n",
       "    <tr>\n",
       "      <th>1999</th>\n",
       "      <td>0.034149</td>\n",
       "      <td>0.304703</td>\n",
       "      <td>0.076184</td>\n",
       "    </tr>\n",
       "    <tr>\n",
       "      <th>2000</th>\n",
       "      <td>0.032753</td>\n",
       "      <td>0.313060</td>\n",
       "      <td>0.073000</td>\n",
       "    </tr>\n",
       "    <tr>\n",
       "      <th>2001</th>\n",
       "      <td>0.031352</td>\n",
       "      <td>0.317495</td>\n",
       "      <td>0.071687</td>\n",
       "    </tr>\n",
       "    <tr>\n",
       "      <th>2002</th>\n",
       "      <td>0.028794</td>\n",
       "      <td>0.325086</td>\n",
       "      <td>0.069397</td>\n",
       "    </tr>\n",
       "    <tr>\n",
       "      <th>2003</th>\n",
       "      <td>0.027069</td>\n",
       "      <td>0.336344</td>\n",
       "      <td>0.066197</td>\n",
       "    </tr>\n",
       "    <tr>\n",
       "      <th>2004</th>\n",
       "      <td>0.026118</td>\n",
       "      <td>0.341151</td>\n",
       "      <td>0.064781</td>\n",
       "    </tr>\n",
       "    <tr>\n",
       "      <th>2005</th>\n",
       "      <td>0.025420</td>\n",
       "      <td>0.344319</td>\n",
       "      <td>0.062806</td>\n",
       "    </tr>\n",
       "    <tr>\n",
       "      <th>2006</th>\n",
       "      <td>0.025075</td>\n",
       "      <td>0.351666</td>\n",
       "      <td>0.060338</td>\n",
       "    </tr>\n",
       "    <tr>\n",
       "      <th>2007</th>\n",
       "      <td>0.024451</td>\n",
       "      <td>0.358274</td>\n",
       "      <td>0.059634</td>\n",
       "    </tr>\n",
       "    <tr>\n",
       "      <th>2008</th>\n",
       "      <td>0.023574</td>\n",
       "      <td>0.361101</td>\n",
       "      <td>0.060342</td>\n",
       "    </tr>\n",
       "    <tr>\n",
       "      <th>2009</th>\n",
       "      <td>0.023398</td>\n",
       "      <td>0.362523</td>\n",
       "      <td>0.057223</td>\n",
       "    </tr>\n",
       "    <tr>\n",
       "      <th>2010</th>\n",
       "      <td>0.023387</td>\n",
       "      <td>0.362771</td>\n",
       "      <td>0.058168</td>\n",
       "    </tr>\n",
       "  </tbody>\n",
       "</table>\n",
       "<p>131 rows × 3 columns</p>\n",
       "</div>"
      ],
      "text/plain": [
       "name_last_letter         d         n         y\n",
       "year                                          \n",
       "1880              0.083055  0.153213  0.075760\n",
       "1881              0.083247  0.153214  0.077451\n",
       "1882              0.085340  0.149560  0.077537\n",
       "1883              0.084066  0.151646  0.079144\n",
       "1884              0.086120  0.149915  0.080405\n",
       "1885              0.085472  0.146361  0.081882\n",
       "1886              0.087647  0.149659  0.081681\n",
       "1887              0.089072  0.148838  0.082870\n",
       "1888              0.087707  0.151286  0.084919\n",
       "1889              0.091934  0.151976  0.086328\n",
       "1890              0.093834  0.146470  0.086277\n",
       "1891              0.094478  0.148353  0.084933\n",
       "1892              0.096388  0.144857  0.084883\n",
       "1893              0.098318  0.142558  0.084643\n",
       "1894              0.100462  0.142112  0.085554\n",
       "1895              0.100019  0.143350  0.083332\n",
       "1896              0.102881  0.140631  0.083922\n",
       "1897              0.101987  0.140112  0.083283\n",
       "1898              0.104887  0.139614  0.090633\n",
       "1899              0.105020  0.140607  0.084807\n",
       "1900              0.102946  0.137645  0.084661\n",
       "1901              0.106792  0.141428  0.081754\n",
       "1902              0.108022  0.140641  0.081901\n",
       "1903              0.109577  0.141337  0.080309\n",
       "1904              0.109335  0.143145  0.080739\n",
       "1905              0.110226  0.142429  0.079331\n",
       "1906              0.111836  0.141447  0.078786\n",
       "1907              0.112689  0.143328  0.079046\n",
       "1908              0.113899  0.143146  0.078593\n",
       "1909              0.115500  0.144204  0.077386\n",
       "...                    ...       ...       ...\n",
       "1981              0.069564  0.247668  0.109612\n",
       "1982              0.067343  0.247982  0.107810\n",
       "1983              0.064590  0.250570  0.103872\n",
       "1984              0.062247  0.249121  0.104434\n",
       "1985              0.060067  0.249074  0.106783\n",
       "1986              0.058999  0.248461  0.108102\n",
       "1987              0.057410  0.248466  0.108872\n",
       "1988              0.054987  0.250193  0.108163\n",
       "1989              0.052868  0.251095  0.106309\n",
       "1990              0.049690  0.254481  0.104817\n",
       "1991              0.046487  0.260756  0.103390\n",
       "1992              0.043886  0.269240  0.101575\n",
       "1993              0.042119  0.271248  0.100591\n",
       "1994              0.039973  0.278569  0.096975\n",
       "1995              0.038017  0.284643  0.091720\n",
       "1996              0.037067  0.289856  0.087609\n",
       "1997              0.036652  0.293351  0.083793\n",
       "1998              0.035442  0.298259  0.079016\n",
       "1999              0.034149  0.304703  0.076184\n",
       "2000              0.032753  0.313060  0.073000\n",
       "2001              0.031352  0.317495  0.071687\n",
       "2002              0.028794  0.325086  0.069397\n",
       "2003              0.027069  0.336344  0.066197\n",
       "2004              0.026118  0.341151  0.064781\n",
       "2005              0.025420  0.344319  0.062806\n",
       "2006              0.025075  0.351666  0.060338\n",
       "2007              0.024451  0.358274  0.059634\n",
       "2008              0.023574  0.361101  0.060342\n",
       "2009              0.023398  0.362523  0.057223\n",
       "2010              0.023387  0.362771  0.058168\n",
       "\n",
       "[131 rows x 3 columns]"
      ]
     },
     "execution_count": 252,
     "metadata": {},
     "output_type": "execute_result"
    }
   ],
   "source": [
    "dny_ts "
   ]
  },
  {
   "cell_type": "code",
   "execution_count": 263,
   "metadata": {},
   "outputs": [
    {
     "data": {
      "text/plain": [
       "<matplotlib.axes._subplots.AxesSubplot at 0x139241e50>"
      ]
     },
     "execution_count": 263,
     "metadata": {},
     "output_type": "execute_result"
    },
    {
     "data": {
      "image/png": "[encoded data removed]",
      "text/plain": [
       "<matplotlib.figure.Figure at 0x138d24d10>"
      ]
     },
     "metadata": {},
     "output_type": "display_data"
    }
   ],
   "source": [
    "# fig,axes = plt.subplots(3,1,figsize=(10,8))\n",
    "dny_ts.plot(subplots=0,figsize=(20,10),fontsize=14)"
   ]
  }
 ],
 "metadata": {
  "kernelspec": {
   "display_name": "Python 2",
   "language": "python",
   "name": "python2"
  },
  "language_info": {
   "codemirror_mode": {
    "name": "ipython",
    "version": 2
   },
   "file_extension": ".py",
   "mimetype": "text/x-python",
   "name": "python",
   "nbconvert_exporter": "python",
   "pygments_lexer": "ipython2",
   "version": "2.7.14"
  }
 },
 "nbformat": 4,
 "nbformat_minor": 2
}
