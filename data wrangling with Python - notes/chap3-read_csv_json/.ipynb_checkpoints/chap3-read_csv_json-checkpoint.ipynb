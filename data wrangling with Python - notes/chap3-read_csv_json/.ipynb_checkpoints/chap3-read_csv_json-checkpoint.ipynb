{
 "cells": [
  {
   "cell_type": "code",
   "execution_count": 1,
   "metadata": {
    "collapsed": true,
    "scrolled": false
   },
   "outputs": [],
   "source": [
    "# %load readcsv.py\n",
    "# csv reader\n",
    "import csv\n",
    "\n",
    "csvfile = open('OfficeSupplies.csv','r')\n",
    "reader = csv.reader(csvfile)"
   ]
  },
  {
   "cell_type": "code",
   "execution_count": 17,
   "metadata": {},
   "outputs": [
    {
     "name": "stdout",
     "output_type": "stream",
     "text": [
      "['OrderDate', 'Region', 'Rep', 'Item', 'Units', 'Unit Price']\n",
      "['4-Jul-2014', 'East', 'Richard', 'Pen Set', '62', '4.99']\n",
      "['12-Jul-2014', 'East', 'Nick', 'Binder', '29', '1.99']\n",
      "['21-Jul-2014', 'Central', 'Morgan', 'Pen Set', '55', '12.49']\n",
      "['29-Jul-2014', 'East', 'Susan', 'Binder', '81', '19.99']\n",
      "['7-Aug-2014', 'Central', 'Matthew', 'Pen Set', '42', '23.95']\n",
      "['15-Aug-2014', 'East', 'Richard', 'Pencil', '35', '4.99']\n",
      "['24-Aug-2014', 'West', 'James', 'Desk', '3', '275']\n",
      "['1-Sep-2014', 'Central', 'Smith', 'Desk', '2', '125']\n",
      "['10-Sep-2014', 'Central', 'Bill', 'Pencil', '7', '1.29']\n",
      "['18-Sep-2014', 'East', 'Richard', 'Pen Set', '16', '15.99']\n",
      "['27-Sep-2014', 'West', 'James', 'Pen', '76', '1.99']\n",
      "['5-Oct-2014', 'Central', 'Morgan', 'Binder', '28', '8.99']\n",
      "['14-Oct-2014', 'West', 'Thomas', 'Binder', '57', '19.99']\n",
      "['22-Oct-2014', 'East', 'Richard', 'Pen', '64', '8.99']\n",
      "['31-Oct-2014', 'Central', 'Rachel', 'Pencil', '14', '1.29']\n",
      "['8-Nov-2014', 'East', 'Susan', 'Pen', '15', '19.99']\n",
      "['17-Nov-2014', 'Central', 'Alex', 'Binder', '11', '4.99']\n",
      "['25-Nov-2014', 'Central', 'Matthew', 'Pen Set', '96', '4.99']\n",
      "['4-Dec-2014', 'Central', 'Alex', 'Binder', '94', '19.99']\n",
      "['12-Dec-2014', 'Central', 'Smith', 'Pencil', '67', '1.29']\n",
      "['21-Dec-2014', 'Central', 'Rachel', 'Binder', '28', '4.99']\n",
      "['29-Dec-2014', 'East', 'Susan', 'Pen Set', '74', '15.99']\n",
      "['6-Jan-2015', 'East', 'Richard', 'Pencil', '95', '1.99']\n",
      "['15-Jan-2015', 'Central', 'Bill', 'Binder', '46', '8.99']\n",
      "['23-Jan-2015', 'Central', 'Matthew', 'Binder', '50', '19.99']\n",
      "['1-Feb-2015', 'Central', 'Smith', 'Binder', '87', '15']\n",
      "['9-Feb-2015', 'Central', 'Alex', 'Pencil', '36', '4.99']\n",
      "['18-Feb-2015', 'East', 'Richard', 'Binder', '4', '4.99']\n",
      "['26-Feb-2015', 'Central', 'Bill', 'Pen', '27', '19.99']\n",
      "['7-Mar-2015', 'West', 'James', 'Binder', '7', '19.99']\n",
      "['15-Mar-2015', 'West', 'James', 'Pencil', '56', '2.99']\n",
      "['24-Mar-2015', 'Central', 'Alex', 'Pen Set', '50', '4.99']\n",
      "['1-Apr-2015', 'East', 'Richard', 'Binder', '60', '4.99']\n",
      "['10-Apr-2015', 'Central', 'Rachel', 'Pencil', '66', '1.99']\n",
      "['18-Apr-2015', 'Central', 'Rachel', 'Pencil', '75', '1.99']\n",
      "['27-Apr-2015', 'East', 'Nick', 'Pen', '96', '4.99']\n",
      "['5-May-2015', 'Central', 'Alex', 'Pencil', '90', '4.99']\n",
      "['14-May-2015', 'Central', 'Bill', 'Pencil', '53', '1.29']\n",
      "['22-May-2015', 'West', 'Thomas', 'Pencil', '32', '1.99']\n",
      "['31-May-2015', 'Central', 'Bill', 'Binder', '80', '8.99']\n",
      "['8-Jun-2015', 'East', 'Richard', 'Binder', '60', '8.99']\n",
      "['17-Jun-2015', 'Central', 'Matthew', 'Desk', '5', '125']\n",
      "['25-Jun-2015', 'Central', 'Morgan', 'Pencil', '90', '4.99']\n"
     ]
    }
   ],
   "source": [
    "for row in reader:\n",
    "\tprint row"
   ]
  },
  {
   "cell_type": "code",
   "execution_count": 20,
   "metadata": {
    "collapsed": true
   },
   "outputs": [],
   "source": [
    "csvfile.close()"
   ]
  },
  {
   "cell_type": "code",
   "execution_count": null,
   "metadata": {
    "collapsed": true,
    "scrolled": false
   },
   "outputs": [],
   "source": [
    "reader2 = csv.DictReader(csvfile)\n",
    "for row in reader2:\n",
    "    print row"
   ]
  },
  {
   "cell_type": "code",
   "execution_count": 23,
   "metadata": {
    "collapsed": true
   },
   "outputs": [],
   "source": [
    "import json"
   ]
  },
  {
   "cell_type": "code",
   "execution_count": 24,
   "metadata": {
    "collapsed": true
   },
   "outputs": [],
   "source": [
    "json_data = open('data-text.json').read()"
   ]
  },
  {
   "cell_type": "code",
   "execution_count": 26,
   "metadata": {},
   "outputs": [
    {
     "data": {
      "text/plain": [
       "str"
      ]
     },
     "execution_count": 26,
     "metadata": {},
     "output_type": "execute_result"
    }
   ],
   "source": [
    "type(json_data)"
   ]
  },
  {
   "cell_type": "code",
   "execution_count": 27,
   "metadata": {
    "collapsed": true
   },
   "outputs": [],
   "source": [
    "data = json.loads(json_data)"
   ]
  },
  {
   "cell_type": "code",
   "execution_count": 28,
   "metadata": {},
   "outputs": [
    {
     "data": {
      "text/plain": [
       "list"
      ]
     },
     "execution_count": 28,
     "metadata": {},
     "output_type": "execute_result"
    }
   ],
   "source": [
    "type(data)"
   ]
  },
  {
   "cell_type": "code",
   "execution_count": 31,
   "metadata": {},
   "outputs": [
    {
     "name": "stdout",
     "output_type": "stream",
     "text": [
      "{u'Indicator': u'Life expectancy at birth (years)', u'Country': u'Andorra', u'Comments': u'', u'Display Value': 77, u'World Bank income group': u'High-income', u'Numeric': 77.0, u'Sex': u'Both sexes', u'High': u'', u'Low': u'', u'Year': 1990, u'WHO region': u'Europe', u'PUBLISH STATES': u'Published'} 12\n"
     ]
    }
   ],
   "source": [
    "# for item in data:\n",
    "#     print item\n",
    "print data[0],len(data[0])"
   ]
  },
  {
   "cell_type": "code",
   "execution_count": null,
   "metadata": {
    "collapsed": true
   },
   "outputs": [],
   "source": []
  }
 ],
 "metadata": {
  "kernelspec": {
   "display_name": "Python 2",
   "language": "python",
   "name": "python2"
  },
  "language_info": {
   "codemirror_mode": {
    "name": "ipython",
    "version": 2
   },
   "file_extension": ".py",
   "mimetype": "text/x-python",
   "name": "python",
   "nbconvert_exporter": "python",
   "pygments_lexer": "ipython2",
   "version": "2.7.14"
  }
 },
 "nbformat": 4,
 "nbformat_minor": 2
}
