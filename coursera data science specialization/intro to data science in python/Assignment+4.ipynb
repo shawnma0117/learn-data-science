{
 "cells": [
  {
   "cell_type": "markdown",
   "metadata": {},
   "source": [
    "---\n",
    "\n",
    "_You are currently looking at **version 1.1** of this notebook. To download notebooks and datafiles, as well as get help on Jupyter notebooks in the Coursera platform, visit the [Jupyter Notebook FAQ](https://www.coursera.org/learn/python-data-analysis/resources/0dhYG) course resource._\n",
    "\n",
    "---"
   ]
  },
  {
   "cell_type": "code",
   "execution_count": 4,
   "metadata": {
    "collapsed": true
   },
   "outputs": [],
   "source": [
    "import pandas as pd\n",
    "import numpy as np\n",
    "from scipy.stats import ttest_ind"
   ]
  },
  {
   "cell_type": "markdown",
   "metadata": {},
   "source": [
    "# Assignment 4 - Hypothesis Testing\n",
    "This assignment requires more individual learning than previous assignments - you are encouraged to check out the [pandas documentation](http://pandas.pydata.org/pandas-docs/stable/) to find functions or methods you might not have used yet, or ask questions on [Stack Overflow](http://stackoverflow.com/) and tag them as pandas and python related. And of course, the discussion forums are open for interaction with your peers and the course staff.\n",
    "\n",
    "Definitions:\n",
    "* A _quarter_ is a specific three month period, Q1 is January through March, Q2 is April through June, Q3 is July through September, Q4 is October through December.\n",
    "* A _recession_ is defined as starting with two consecutive quarters of GDP decline, and ending with two consecutive quarters of GDP growth.\n",
    "* A _recession bottom_ is the quarter within a recession which had the lowest GDP.\n",
    "* A _university town_ is a city which has a high percentage of university students compared to the total population of the city.\n",
    "\n",
    "**Hypothesis**: University towns have their mean housing prices less effected by recessions. Run a t-test to compare the ratio of the mean price of houses in university towns the quarter before the recession starts compared to the recession bottom. (`price_ratio=quarter_before_recession/recession_bottom`)\n",
    "\n",
    "The following data files are available for this assignment:\n",
    "* From the [Zillow research data site](http://www.zillow.com/research/data/) there is housing data for the United States. In particular the datafile for [all homes at a city level](http://files.zillowstatic.com/research/public/City/City_Zhvi_AllHomes.csv), ```City_Zhvi_AllHomes.csv```, has median home sale prices at a fine grained level.\n",
    "* From the Wikipedia page on college towns is a list of [university towns in the United States](https://en.wikipedia.org/wiki/List_of_college_towns#College_towns_in_the_United_States) which has been copy and pasted into the file ```university_towns.txt```.\n",
    "* From Bureau of Economic Analysis, US Department of Commerce, the [GDP over time](http://www.bea.gov/national/index.htm#gdp) of the United States in current dollars (use the chained value in 2009 dollars), in quarterly intervals, in the file ```gdplev.xls```. For this assignment, only look at GDP data from the first quarter of 2000 onward.\n",
    "\n",
    "Each function in this assignment below is worth 10%, with the exception of ```run_ttest()```, which is worth 50%."
   ]
  },
  {
   "cell_type": "code",
   "execution_count": 5,
   "metadata": {
    "collapsed": true
   },
   "outputs": [],
   "source": [
    "# Use this dictionary to map state names to two letter acronyms\n",
    "states = {'OH': 'Ohio', 'KY': 'Kentucky', 'AS': 'American Samoa', 'NV': 'Nevada', 'WY': 'Wyoming', 'NA': 'National', 'AL': 'Alabama', 'MD': 'Maryland', 'AK': 'Alaska', 'UT': 'Utah', 'OR': 'Oregon', 'MT': 'Montana', 'IL': 'Illinois', 'TN': 'Tennessee', 'DC': 'District of Columbia', 'VT': 'Vermont', 'ID': 'Idaho', 'AR': 'Arkansas', 'ME': 'Maine', 'WA': 'Washington', 'HI': 'Hawaii', 'WI': 'Wisconsin', 'MI': 'Michigan', 'IN': 'Indiana', 'NJ': 'New Jersey', 'AZ': 'Arizona', 'GU': 'Guam', 'MS': 'Mississippi', 'PR': 'Puerto Rico', 'NC': 'North Carolina', 'TX': 'Texas', 'SD': 'South Dakota', 'MP': 'Northern Mariana Islands', 'IA': 'Iowa', 'MO': 'Missouri', 'CT': 'Connecticut', 'WV': 'West Virginia', 'SC': 'South Carolina', 'LA': 'Louisiana', 'KS': 'Kansas', 'NY': 'New York', 'NE': 'Nebraska', 'OK': 'Oklahoma', 'FL': 'Florida', 'CA': 'California', 'CO': 'Colorado', 'PA': 'Pennsylvania', 'DE': 'Delaware', 'NM': 'New Mexico', 'RI': 'Rhode Island', 'MN': 'Minnesota', 'VI': 'Virgin Islands', 'NH': 'New Hampshire', 'MA': 'Massachusetts', 'GA': 'Georgia', 'ND': 'North Dakota', 'VA': 'Virginia'}"
   ]
  },
  {
   "cell_type": "code",
   "execution_count": 6,
   "metadata": {
    "collapsed": true,
    "umich_part_id": "021",
    "umich_partlist_id": "004"
   },
   "outputs": [],
   "source": [
    "def get_list_of_university_towns():\n",
    "    '''Returns a DataFrame of towns and the states they are in from the \n",
    "    university_towns.txt list. The format of the DataFrame should be:\n",
    "    DataFrame( [ [\"Michigan\", \"Ann Arbor\"], [\"Michigan\", \"Yipsilanti\"] ], \n",
    "    columns=[\"State\", \"RegionName\"]  )\n",
    "    \n",
    "    The following cleaning needs to be done:\n",
    "\n",
    "    1. For \"State\", removing characters from \"[\" to the end.\n",
    "    2. For \"RegionName\", when applicable, removing every character from \" (\" to the end.\n",
    "    3. Depending on how you read the data, you may need to remove newline character '\\n'. '''\n",
    "    file = pd.read_csv('university_towns.txt', sep='\\n', usecols=[0],header=None, names=['raw']\\\n",
    "                       ,index_col=False)\n",
    "    file['State']='None'; file['RegionName'] = 'None'\n",
    "    # iterate over every rows\n",
    "    for index, row in file.iterrows():\n",
    "        # find the state name\n",
    "        if row['raw'].find('[edit]') != -1:\n",
    "            idx = row['raw'].find('[edit]')\n",
    "            state = row['raw'][:idx]\n",
    "        # if not state, extract the region name by spliting with parenthesis\n",
    "        else:\n",
    "            regionname = row['raw'].split('(')[0].strip()\n",
    "            row['RegionName'] = regionname\n",
    "            row['State'] = state\n",
    "\n",
    "    uni_town = file.loc[file['State'] != 'None',['State','RegionName']].reset_index(drop=True)\n",
    "    return uni_town"
   ]
  },
  {
   "cell_type": "code",
   "execution_count": 7,
   "metadata": {
    "collapsed": true
   },
   "outputs": [],
   "source": [
    "# READ IN GDP DATA\n",
    "# process it for later use\n",
    "gdp = pd.read_excel('gdplev.xls', skiprows=range(0,7), usecols=[4,6], names=['Quarter','ChainedGDP'])\n",
    "\n",
    "gdp_inuse = gdp[gdp.Quarter >= '2000q1'].reset_index(drop=True)\n",
    "\n",
    "gdp_inuse['Change'] = gdp_inuse.ChainedGDP.diff()"
   ]
  },
  {
   "cell_type": "code",
   "execution_count": 241,
   "metadata": {
    "collapsed": true,
    "scrolled": false
   },
   "outputs": [],
   "source": [
    "#gdp_inuse[gdp_inuse['Quarter']>'2007']"
   ]
  },
  {
   "cell_type": "code",
   "execution_count": 8,
   "metadata": {
    "collapsed": true,
    "umich_part_id": "022",
    "umich_partlist_id": "004"
   },
   "outputs": [],
   "source": [
    "def get_recession_start():\n",
    "    '''Returns the year and quarter of the recession start time as a \n",
    "    string value in a format such as 2005q3'''\n",
    "    #  recession的开始定义为chained gdp连续两个季度下降。第一个看到下降的时间点就是recession_start\n",
    "    #  period1为第一个下降的quarter, period2为第二个下降的quarter\n",
    "    #  通过不断更新period1和period2，并计算他们之间的“距离”，来寻找连续下降的时间点。\n",
    "    period1 = None\n",
    "    recession_start=0\n",
    "    for index, row in gdp_inuse.iterrows():    \n",
    "        if row['Change'] <0:\n",
    "            period2 = index\n",
    "            if period1 != None:\n",
    "                if (period2 - period1) == 1: # 两个下降期是否紧邻？\n",
    "                    recession_start = period1 \n",
    "                    break  #只要找到recession_start，马上跳出循环\n",
    "                else: period1 = period2\n",
    "            else: period1 = period2\n",
    "    return gdp_inuse['Quarter'][recession_start]"
   ]
  },
  {
   "cell_type": "code",
   "execution_count": 9,
   "metadata": {
    "collapsed": true,
    "umich_part_id": "023",
    "umich_partlist_id": "004"
   },
   "outputs": [],
   "source": [
    "def get_recession_end():\n",
    "    '''Returns the year and quarter of the recession end time as a \n",
    "    string value in a format such as 2005q3'''\n",
    "    start = get_recession_start()\n",
    "    recession = gdp_inuse[gdp_inuse.Quarter>=start]\n",
    "    period1=None\n",
    "    recession_end=0\n",
    "    for index, row in recession.iterrows():    \n",
    "        if row['Change'] >0:\n",
    "            period2 = index\n",
    "            if period1 != None:\n",
    "                if (period2 - period1) == 1: # 两个上升期是否紧邻？\n",
    "                    recession_end = period2 \n",
    "                    break  #只要找到recession_start，马上跳出循环\n",
    "                else: period1 = period2\n",
    "            else: period1 = period2    \n",
    "    return gdp_inuse['Quarter'][recession_end]"
   ]
  },
  {
   "cell_type": "code",
   "execution_count": 242,
   "metadata": {
    "collapsed": true
   },
   "outputs": [],
   "source": [
    "#get_recession_end()"
   ]
  },
  {
   "cell_type": "code",
   "execution_count": 10,
   "metadata": {
    "collapsed": true,
    "umich_part_id": "024",
    "umich_partlist_id": "004"
   },
   "outputs": [],
   "source": [
    "def get_recession_bottom():\n",
    "    '''Returns the year and quarter of the recession bottom time as a \n",
    "    string value in a format such as 2005q3'''\n",
    "    start = get_recession_start()\n",
    "    end = get_recession_end()\n",
    "    recession = gdp_inuse[gdp_inuse.Quarter.between(start,end)].set_index('Quarter')\n",
    "    bottom = recession.ChainedGDP.idxmin()\n",
    "    return bottom"
   ]
  },
  {
   "cell_type": "code",
   "execution_count": 243,
   "metadata": {
    "collapsed": true
   },
   "outputs": [],
   "source": [
    "#get_recession_bottom()"
   ]
  },
  {
   "cell_type": "code",
   "execution_count": 207,
   "metadata": {
    "collapsed": true
   },
   "outputs": [],
   "source": [
    "# bad, inefficient way. abandoned\n",
    "# housing = pd.read_csv('City_Zhvi_AllHomes.csv')\n",
    "\n",
    "# housing.set_index(['State','RegionName'],inplace=True)\n",
    "\n",
    "# housing = housing.drop(['RegionID', 'Metro', 'CountyName', 'SizeRank'],axis=1)\n",
    "# # make a mapping table which converts '01' to 'q1'\n",
    "# quarter={} \n",
    "# for i in range(1,13):\n",
    "#     if len(str(i)) !=2:\n",
    "#         month_str = '0'+str(i)\n",
    "#     else: month_str=str(i)\n",
    "#     if i in range(1,4):\n",
    "#         quarter[month_str] = 'q1'\n",
    "#     if i in range(4,7):\n",
    "#         quarter[month_str] = 'q2'\n",
    "#     if i in range(7,10):\n",
    "#         quarter[month_str] = 'q3'\n",
    "#     if i in range(10,13): \n",
    "#         quarter[month_str] = 'q4'\n",
    "# # stack all columns into a new column called 'month'. The value looks like '1996-01','1997-08'\n",
    "# # name the value of each year's house price as 'price'\n",
    "# housing_stacked = housing.stack(dropna=False).reset_index(level=2,name='price')\n",
    "# housing_stacked.rename(columns={'level_2':'month'},inplace=True)\n",
    "\n",
    "# # create a new column that transform 'month' to quarterly representation\n",
    "# f = lambda m: m.split('-')[0]+quarter[m.split('-')[1]]\n",
    "# housing_stacked['quarter'] = housing_stacked['month'].apply(f)"
   ]
  },
  {
   "cell_type": "code",
   "execution_count": 20,
   "metadata": {
    "collapsed": true,
    "umich_part_id": "025",
    "umich_partlist_id": "004"
   },
   "outputs": [],
   "source": [
    "def convert_housing_data_to_quarters():\n",
    "    '''Converts the housing data to quarters and returns it as mean \n",
    "    values in a dataframe. This dataframe should be a dataframe with\n",
    "    columns for 2000q1 through 2016q3, and should have a multi-index\n",
    "    in the shape of [\"State\",\"RegionName\"].\n",
    "    \n",
    "    Note: Quarters are defined in the assignment description, they are\n",
    "    not arbitrary three month periods.\n",
    "    \n",
    "    The resulting dataframe should have 67 columns, and 10,730 rows.\n",
    "    '''\n",
    "    housing = pd.read_csv('City_Zhvi_AllHomes.csv')\n",
    "    housing['State'] = housing['State'].apply(lambda x: states[x])\n",
    "    housing.set_index(['State','RegionName'],inplace=True)\n",
    "    newcol = []\n",
    "    for col in housing.columns:\n",
    "        if col >='2000-01' and col <= '2016-08':\n",
    "            newcol.append(col)\n",
    "    housing = housing[newcol]\n",
    "    housing = housing.rename(columns=pd.to_datetime) # column can also be DatetimeIndex type!\n",
    "    housing = housing.resample('Q',axis=1).mean()\n",
    "    housing.rename(columns=lambda x: str(x.to_period('Q')).lower(), inplace=True)\n",
    "    return housing"
   ]
  },
  {
   "cell_type": "code",
   "execution_count": 83,
   "metadata": {
    "collapsed": true,
    "umich_part_id": "026",
    "umich_partlist_id": "004"
   },
   "outputs": [],
   "source": [
    "def run_ttest():\n",
    "    '''First creates new data showing the decline or growth of housing prices\n",
    "    between the recession start and the recession bottom. Then runs a ttest\n",
    "    comparing the university town values to the non-university towns values, \n",
    "    return whether the alternative hypothesis (that the two groups are the same)\n",
    "    is true or not as well as the p-value of the confidence. \n",
    "    \n",
    "    Return the tuple (different, p, better) where different=True if the t-test is\n",
    "    True at a p<0.01 (we reject the null hypothesis), or different=False if \n",
    "    otherwise (we cannot reject the null hypothesis). The variable p should\n",
    "    be equal to the exact p value returned from scipy.stats.ttest_ind(). The\n",
    "    value for better should be either \"university town\" or \"non-university town\"\n",
    "    depending on which has a lower mean price ratio (which is equivilent to a\n",
    "    reduced market loss).'''\n",
    "    housing = convert_housing_data_to_quarters()\n",
    "    start = get_recession_start()\n",
    "    bottom = get_recession_bottom()\n",
    "    ut_list = get_list_of_university_towns()\n",
    "\n",
    "    #find the quarter before recession started.\n",
    "    for idx, col in enumerate(housing.columns):\n",
    "        if col == start:\n",
    "            qtr_before_idx = idx -1\n",
    "\n",
    "    qtr_before_rec_start = housing.columns[qtr_before_idx]\n",
    "    sel_col = [col for col in housing.columns if col >=qtr_before_rec_start and col <= bottom]\n",
    "\n",
    "    testdata = pd.merge(left=housing[sel_col], right=ut_list, how='left', left_index=True,\\\n",
    "             right_on=['State','RegionName'],indicator=True)\n",
    "    testdata['is_univeristy_town'] = testdata['_merge'].apply(lambda x: '0' if x=='left_only' else '1')\n",
    "    testdata = testdata.drop(['_merge'],axis=1).reset_index(drop=True)\n",
    "\n",
    "    # compute price ratio using the formula given above\n",
    "    testdata['price_ratio'] = testdata[qtr_before_rec_start] / testdata[bottom]\n",
    "\n",
    "    # split the test data\n",
    "    ut = testdata[testdata['is_univeristy_town'] == '1']\n",
    "    non_ut = testdata[testdata['is_univeristy_town'] == '0']\n",
    "\n",
    "    t_stats, p = ttest_ind(ut['price_ratio'],non_ut['price_ratio'],nan_policy='omit')\n",
    "\n",
    "    different = True if p < 0.01 else False\n",
    "\n",
    "    better = 'university town' if ut['price_ratio'].mean() < non_ut['price_ratio'].mean() else 'non-university town'\n",
    "    return (different, p, better)"
   ]
  },
  {
   "cell_type": "code",
   "execution_count": 84,
   "metadata": {},
   "outputs": [
    {
     "data": {
      "text/plain": [
       "(True, 0.0027240637047531249, 'university town')"
      ]
     },
     "execution_count": 84,
     "metadata": {},
     "output_type": "execute_result"
    }
   ],
   "source": [
    "run_ttest()"
   ]
  }
 ],
 "metadata": {
  "coursera": {
   "course_slug": "python-data-analysis",
   "graded_item_id": "Il9Fx",
   "launcher_item_id": "TeDW0",
   "part_id": "WGlun"
  },
  "kernelspec": {
   "display_name": "Python 2",
   "language": "python",
   "name": "python2"
  },
  "language_info": {
   "codemirror_mode": {
    "name": "ipython",
    "version": 2
   },
   "file_extension": ".py",
   "mimetype": "text/x-python",
   "name": "python",
   "nbconvert_exporter": "python",
   "pygments_lexer": "ipython2",
   "version": "2.7.14"
  },
  "umich": {
   "id": "Assignment 4",
   "version": "1.1"
  }
 },
 "nbformat": 4,
 "nbformat_minor": 1
}
